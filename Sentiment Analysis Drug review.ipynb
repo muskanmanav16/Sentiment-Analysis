{
  "nbformat": 4,
  "nbformat_minor": 0,
  "metadata": {
    "colab": {
      "provenance": []
    },
    "kernelspec": {
      "name": "python3",
      "display_name": "Python 3"
    },
    "language_info": {
      "name": "python"
    },
    "gpuClass": "standard",
    "accelerator": "GPU"
  },
  "cells": [
    {
      "cell_type": "code",
      "source": [
        "# Importing Pandas library:\n",
        "import pandas as pd"
      ],
      "metadata": {
        "id": "yLKRsKfO26XX"
      },
      "execution_count": null,
      "outputs": []
    },
    {
      "cell_type": "markdown",
      "source": [
        "###Loading data"
      ],
      "metadata": {
        "id": "9bSj50Ry9nNK"
      }
    },
    {
      "cell_type": "code",
      "source": [
        "from pathlib import Path\n",
        "\n",
        "data_dir = \"data\"\n",
        "# check that the path is correct\n",
        "Path(data_dir).mkdir(parents=True, exist_ok=True)"
      ],
      "metadata": {
        "id": "WDHZyHH23cSX"
      },
      "execution_count": null,
      "outputs": []
    },
    {
      "cell_type": "code",
      "source": [
        "!wget -P $data_dir https://raw.githubusercontent.com/amirshnll/Drug-Review-Dataset/main/drugsComTest_raw.tsv\n",
        "!wget -P $data_dir https://raw.githubusercontent.com/amirshnll/Drug-Review-Dataset/main/drugsComTrain_raw.tsv"
      ],
      "metadata": {
        "colab": {
          "base_uri": "https://localhost:8080/"
        },
        "id": "ZgiGDPpL6vUY",
        "outputId": "dcb08a81-ae9b-4ab6-bd7b-164190ae60b9"
      },
      "execution_count": null,
      "outputs": [
        {
          "output_type": "stream",
          "name": "stdout",
          "text": [
            "--2022-08-04 14:01:51--  https://raw.githubusercontent.com/amirshnll/Drug-Review-Dataset/main/drugsComTest_raw.tsv\n",
            "Resolving raw.githubusercontent.com (raw.githubusercontent.com)... 185.199.109.133, 185.199.110.133, 185.199.111.133, ...\n",
            "Connecting to raw.githubusercontent.com (raw.githubusercontent.com)|185.199.109.133|:443... connected.\n",
            "HTTP request sent, awaiting response... 200 OK\n",
            "Length: 28071166 (27M) [text/plain]\n",
            "Saving to: ‘data/drugsComTest_raw.tsv.2’\n",
            "\n",
            "drugsComTest_raw.ts 100%[===================>]  26.77M   169MB/s    in 0.2s    \n",
            "\n",
            "2022-08-04 14:01:51 (169 MB/s) - ‘data/drugsComTest_raw.tsv.2’ saved [28071166/28071166]\n",
            "\n",
            "--2022-08-04 14:01:51--  https://raw.githubusercontent.com/amirshnll/Drug-Review-Dataset/main/drugsComTrain_raw.tsv\n",
            "Resolving raw.githubusercontent.com (raw.githubusercontent.com)... 185.199.110.133, 185.199.108.133, 185.199.109.133, ...\n",
            "Connecting to raw.githubusercontent.com (raw.githubusercontent.com)|185.199.110.133|:443... connected.\n",
            "HTTP request sent, awaiting response... 200 OK\n",
            "Length: 84289175 (80M) [text/plain]\n",
            "Saving to: ‘data/drugsComTrain_raw.tsv.2’\n",
            "\n",
            "drugsComTrain_raw.t 100%[===================>]  80.38M   200MB/s    in 0.4s    \n",
            "\n",
            "2022-08-04 14:01:52 (200 MB/s) - ‘data/drugsComTrain_raw.tsv.2’ saved [84289175/84289175]\n",
            "\n"
          ]
        }
      ]
    },
    {
      "cell_type": "code",
      "source": [
        "# Converting data to pd dframes:\n",
        "\n",
        "train = pd.read_csv(\"data/drugsComTrain_raw.tsv\", sep = \"\\t\")\n",
        "test = pd.read_csv(\"data/drugsComTest_raw.tsv\", sep = \"\\t\")"
      ],
      "metadata": {
        "id": "ugDktG3H67im"
      },
      "execution_count": null,
      "outputs": []
    },
    {
      "cell_type": "code",
      "source": [
        "train.head()"
      ],
      "metadata": {
        "colab": {
          "base_uri": "https://localhost:8080/",
          "height": 206
        },
        "id": "c854L87D9QUx",
        "outputId": "4a4d4b47-d6ba-4238-f864-ac6df0fedf5f"
      },
      "execution_count": null,
      "outputs": [
        {
          "output_type": "execute_result",
          "data": {
            "text/plain": [
              "   Unnamed: 0                  drugName                     condition  \\\n",
              "0      206461                 Valsartan  Left Ventricular Dysfunction   \n",
              "1       95260                Guanfacine                          ADHD   \n",
              "2       92703                    Lybrel                 Birth Control   \n",
              "3      138000                Ortho Evra                 Birth Control   \n",
              "4       35696  Buprenorphine / naloxone             Opiate Dependence   \n",
              "\n",
              "                                              review  rating  \\\n",
              "0  \"It has no side effect, I take it in combinati...     9.0   \n",
              "1  \"My son is halfway through his fourth week of ...     8.0   \n",
              "2  \"I used to take another oral contraceptive, wh...     5.0   \n",
              "3  \"This is my first time using any form of birth...     8.0   \n",
              "4  \"Suboxone has completely turned my life around...     9.0   \n",
              "\n",
              "                date  usefulCount  \n",
              "0       May 20, 2012           27  \n",
              "1     April 27, 2010          192  \n",
              "2  December 14, 2009           17  \n",
              "3   November 3, 2015           10  \n",
              "4  November 27, 2016           37  "
            ],
            "text/html": [
              "\n",
              "  <div id=\"df-2b539516-081c-49d3-8cb9-d33adc6d90cb\">\n",
              "    <div class=\"colab-df-container\">\n",
              "      <div>\n",
              "<style scoped>\n",
              "    .dataframe tbody tr th:only-of-type {\n",
              "        vertical-align: middle;\n",
              "    }\n",
              "\n",
              "    .dataframe tbody tr th {\n",
              "        vertical-align: top;\n",
              "    }\n",
              "\n",
              "    .dataframe thead th {\n",
              "        text-align: right;\n",
              "    }\n",
              "</style>\n",
              "<table border=\"1\" class=\"dataframe\">\n",
              "  <thead>\n",
              "    <tr style=\"text-align: right;\">\n",
              "      <th></th>\n",
              "      <th>Unnamed: 0</th>\n",
              "      <th>drugName</th>\n",
              "      <th>condition</th>\n",
              "      <th>review</th>\n",
              "      <th>rating</th>\n",
              "      <th>date</th>\n",
              "      <th>usefulCount</th>\n",
              "    </tr>\n",
              "  </thead>\n",
              "  <tbody>\n",
              "    <tr>\n",
              "      <th>0</th>\n",
              "      <td>206461</td>\n",
              "      <td>Valsartan</td>\n",
              "      <td>Left Ventricular Dysfunction</td>\n",
              "      <td>\"It has no side effect, I take it in combinati...</td>\n",
              "      <td>9.0</td>\n",
              "      <td>May 20, 2012</td>\n",
              "      <td>27</td>\n",
              "    </tr>\n",
              "    <tr>\n",
              "      <th>1</th>\n",
              "      <td>95260</td>\n",
              "      <td>Guanfacine</td>\n",
              "      <td>ADHD</td>\n",
              "      <td>\"My son is halfway through his fourth week of ...</td>\n",
              "      <td>8.0</td>\n",
              "      <td>April 27, 2010</td>\n",
              "      <td>192</td>\n",
              "    </tr>\n",
              "    <tr>\n",
              "      <th>2</th>\n",
              "      <td>92703</td>\n",
              "      <td>Lybrel</td>\n",
              "      <td>Birth Control</td>\n",
              "      <td>\"I used to take another oral contraceptive, wh...</td>\n",
              "      <td>5.0</td>\n",
              "      <td>December 14, 2009</td>\n",
              "      <td>17</td>\n",
              "    </tr>\n",
              "    <tr>\n",
              "      <th>3</th>\n",
              "      <td>138000</td>\n",
              "      <td>Ortho Evra</td>\n",
              "      <td>Birth Control</td>\n",
              "      <td>\"This is my first time using any form of birth...</td>\n",
              "      <td>8.0</td>\n",
              "      <td>November 3, 2015</td>\n",
              "      <td>10</td>\n",
              "    </tr>\n",
              "    <tr>\n",
              "      <th>4</th>\n",
              "      <td>35696</td>\n",
              "      <td>Buprenorphine / naloxone</td>\n",
              "      <td>Opiate Dependence</td>\n",
              "      <td>\"Suboxone has completely turned my life around...</td>\n",
              "      <td>9.0</td>\n",
              "      <td>November 27, 2016</td>\n",
              "      <td>37</td>\n",
              "    </tr>\n",
              "  </tbody>\n",
              "</table>\n",
              "</div>\n",
              "      <button class=\"colab-df-convert\" onclick=\"convertToInteractive('df-2b539516-081c-49d3-8cb9-d33adc6d90cb')\"\n",
              "              title=\"Convert this dataframe to an interactive table.\"\n",
              "              style=\"display:none;\">\n",
              "        \n",
              "  <svg xmlns=\"http://www.w3.org/2000/svg\" height=\"24px\"viewBox=\"0 0 24 24\"\n",
              "       width=\"24px\">\n",
              "    <path d=\"M0 0h24v24H0V0z\" fill=\"none\"/>\n",
              "    <path d=\"M18.56 5.44l.94 2.06.94-2.06 2.06-.94-2.06-.94-.94-2.06-.94 2.06-2.06.94zm-11 1L8.5 8.5l.94-2.06 2.06-.94-2.06-.94L8.5 2.5l-.94 2.06-2.06.94zm10 10l.94 2.06.94-2.06 2.06-.94-2.06-.94-.94-2.06-.94 2.06-2.06.94z\"/><path d=\"M17.41 7.96l-1.37-1.37c-.4-.4-.92-.59-1.43-.59-.52 0-1.04.2-1.43.59L10.3 9.45l-7.72 7.72c-.78.78-.78 2.05 0 2.83L4 21.41c.39.39.9.59 1.41.59.51 0 1.02-.2 1.41-.59l7.78-7.78 2.81-2.81c.8-.78.8-2.07 0-2.86zM5.41 20L4 18.59l7.72-7.72 1.47 1.35L5.41 20z\"/>\n",
              "  </svg>\n",
              "      </button>\n",
              "      \n",
              "  <style>\n",
              "    .colab-df-container {\n",
              "      display:flex;\n",
              "      flex-wrap:wrap;\n",
              "      gap: 12px;\n",
              "    }\n",
              "\n",
              "    .colab-df-convert {\n",
              "      background-color: #E8F0FE;\n",
              "      border: none;\n",
              "      border-radius: 50%;\n",
              "      cursor: pointer;\n",
              "      display: none;\n",
              "      fill: #1967D2;\n",
              "      height: 32px;\n",
              "      padding: 0 0 0 0;\n",
              "      width: 32px;\n",
              "    }\n",
              "\n",
              "    .colab-df-convert:hover {\n",
              "      background-color: #E2EBFA;\n",
              "      box-shadow: 0px 1px 2px rgba(60, 64, 67, 0.3), 0px 1px 3px 1px rgba(60, 64, 67, 0.15);\n",
              "      fill: #174EA6;\n",
              "    }\n",
              "\n",
              "    [theme=dark] .colab-df-convert {\n",
              "      background-color: #3B4455;\n",
              "      fill: #D2E3FC;\n",
              "    }\n",
              "\n",
              "    [theme=dark] .colab-df-convert:hover {\n",
              "      background-color: #434B5C;\n",
              "      box-shadow: 0px 1px 3px 1px rgba(0, 0, 0, 0.15);\n",
              "      filter: drop-shadow(0px 1px 2px rgba(0, 0, 0, 0.3));\n",
              "      fill: #FFFFFF;\n",
              "    }\n",
              "  </style>\n",
              "\n",
              "      <script>\n",
              "        const buttonEl =\n",
              "          document.querySelector('#df-2b539516-081c-49d3-8cb9-d33adc6d90cb button.colab-df-convert');\n",
              "        buttonEl.style.display =\n",
              "          google.colab.kernel.accessAllowed ? 'block' : 'none';\n",
              "\n",
              "        async function convertToInteractive(key) {\n",
              "          const element = document.querySelector('#df-2b539516-081c-49d3-8cb9-d33adc6d90cb');\n",
              "          const dataTable =\n",
              "            await google.colab.kernel.invokeFunction('convertToInteractive',\n",
              "                                                     [key], {});\n",
              "          if (!dataTable) return;\n",
              "\n",
              "          const docLinkHtml = 'Like what you see? Visit the ' +\n",
              "            '<a target=\"_blank\" href=https://colab.research.google.com/notebooks/data_table.ipynb>data table notebook</a>'\n",
              "            + ' to learn more about interactive tables.';\n",
              "          element.innerHTML = '';\n",
              "          dataTable['output_type'] = 'display_data';\n",
              "          await google.colab.output.renderOutput(dataTable, element);\n",
              "          const docLink = document.createElement('div');\n",
              "          docLink.innerHTML = docLinkHtml;\n",
              "          element.appendChild(docLink);\n",
              "        }\n",
              "      </script>\n",
              "    </div>\n",
              "  </div>\n",
              "  "
            ]
          },
          "metadata": {},
          "execution_count": 70
        }
      ]
    },
    {
      "cell_type": "code",
      "source": [
        "test.head()"
      ],
      "metadata": {
        "colab": {
          "base_uri": "https://localhost:8080/",
          "height": 206
        },
        "id": "2i8speCE9SI6",
        "outputId": "5cf8a17b-590b-45da-a71e-b85ecb016f7a"
      },
      "execution_count": null,
      "outputs": [
        {
          "output_type": "execute_result",
          "data": {
            "text/plain": [
              "   Unnamed: 0         drugName                     condition  \\\n",
              "0      163740      Mirtazapine                    Depression   \n",
              "1      206473       Mesalamine  Crohn's Disease, Maintenance   \n",
              "2      159672          Bactrim       Urinary Tract Infection   \n",
              "3       39293         Contrave                   Weight Loss   \n",
              "4       97768  Cyclafem 1 / 35                 Birth Control   \n",
              "\n",
              "                                              review  rating  \\\n",
              "0  \"I&#039;ve tried a few antidepressants over th...    10.0   \n",
              "1  \"My son has Crohn&#039;s disease and has done ...     8.0   \n",
              "2                      \"Quick reduction of symptoms\"     9.0   \n",
              "3  \"Contrave combines drugs that were used for al...     9.0   \n",
              "4  \"I have been on this birth control for one cyc...     9.0   \n",
              "\n",
              "                 date  usefulCount  \n",
              "0   February 28, 2012           22  \n",
              "1        May 17, 2009           17  \n",
              "2  September 29, 2017            3  \n",
              "3       March 5, 2017           35  \n",
              "4    October 22, 2015            4  "
            ],
            "text/html": [
              "\n",
              "  <div id=\"df-77f91f78-fa76-4718-aa91-4d15e8516c09\">\n",
              "    <div class=\"colab-df-container\">\n",
              "      <div>\n",
              "<style scoped>\n",
              "    .dataframe tbody tr th:only-of-type {\n",
              "        vertical-align: middle;\n",
              "    }\n",
              "\n",
              "    .dataframe tbody tr th {\n",
              "        vertical-align: top;\n",
              "    }\n",
              "\n",
              "    .dataframe thead th {\n",
              "        text-align: right;\n",
              "    }\n",
              "</style>\n",
              "<table border=\"1\" class=\"dataframe\">\n",
              "  <thead>\n",
              "    <tr style=\"text-align: right;\">\n",
              "      <th></th>\n",
              "      <th>Unnamed: 0</th>\n",
              "      <th>drugName</th>\n",
              "      <th>condition</th>\n",
              "      <th>review</th>\n",
              "      <th>rating</th>\n",
              "      <th>date</th>\n",
              "      <th>usefulCount</th>\n",
              "    </tr>\n",
              "  </thead>\n",
              "  <tbody>\n",
              "    <tr>\n",
              "      <th>0</th>\n",
              "      <td>163740</td>\n",
              "      <td>Mirtazapine</td>\n",
              "      <td>Depression</td>\n",
              "      <td>\"I&amp;#039;ve tried a few antidepressants over th...</td>\n",
              "      <td>10.0</td>\n",
              "      <td>February 28, 2012</td>\n",
              "      <td>22</td>\n",
              "    </tr>\n",
              "    <tr>\n",
              "      <th>1</th>\n",
              "      <td>206473</td>\n",
              "      <td>Mesalamine</td>\n",
              "      <td>Crohn's Disease, Maintenance</td>\n",
              "      <td>\"My son has Crohn&amp;#039;s disease and has done ...</td>\n",
              "      <td>8.0</td>\n",
              "      <td>May 17, 2009</td>\n",
              "      <td>17</td>\n",
              "    </tr>\n",
              "    <tr>\n",
              "      <th>2</th>\n",
              "      <td>159672</td>\n",
              "      <td>Bactrim</td>\n",
              "      <td>Urinary Tract Infection</td>\n",
              "      <td>\"Quick reduction of symptoms\"</td>\n",
              "      <td>9.0</td>\n",
              "      <td>September 29, 2017</td>\n",
              "      <td>3</td>\n",
              "    </tr>\n",
              "    <tr>\n",
              "      <th>3</th>\n",
              "      <td>39293</td>\n",
              "      <td>Contrave</td>\n",
              "      <td>Weight Loss</td>\n",
              "      <td>\"Contrave combines drugs that were used for al...</td>\n",
              "      <td>9.0</td>\n",
              "      <td>March 5, 2017</td>\n",
              "      <td>35</td>\n",
              "    </tr>\n",
              "    <tr>\n",
              "      <th>4</th>\n",
              "      <td>97768</td>\n",
              "      <td>Cyclafem 1 / 35</td>\n",
              "      <td>Birth Control</td>\n",
              "      <td>\"I have been on this birth control for one cyc...</td>\n",
              "      <td>9.0</td>\n",
              "      <td>October 22, 2015</td>\n",
              "      <td>4</td>\n",
              "    </tr>\n",
              "  </tbody>\n",
              "</table>\n",
              "</div>\n",
              "      <button class=\"colab-df-convert\" onclick=\"convertToInteractive('df-77f91f78-fa76-4718-aa91-4d15e8516c09')\"\n",
              "              title=\"Convert this dataframe to an interactive table.\"\n",
              "              style=\"display:none;\">\n",
              "        \n",
              "  <svg xmlns=\"http://www.w3.org/2000/svg\" height=\"24px\"viewBox=\"0 0 24 24\"\n",
              "       width=\"24px\">\n",
              "    <path d=\"M0 0h24v24H0V0z\" fill=\"none\"/>\n",
              "    <path d=\"M18.56 5.44l.94 2.06.94-2.06 2.06-.94-2.06-.94-.94-2.06-.94 2.06-2.06.94zm-11 1L8.5 8.5l.94-2.06 2.06-.94-2.06-.94L8.5 2.5l-.94 2.06-2.06.94zm10 10l.94 2.06.94-2.06 2.06-.94-2.06-.94-.94-2.06-.94 2.06-2.06.94z\"/><path d=\"M17.41 7.96l-1.37-1.37c-.4-.4-.92-.59-1.43-.59-.52 0-1.04.2-1.43.59L10.3 9.45l-7.72 7.72c-.78.78-.78 2.05 0 2.83L4 21.41c.39.39.9.59 1.41.59.51 0 1.02-.2 1.41-.59l7.78-7.78 2.81-2.81c.8-.78.8-2.07 0-2.86zM5.41 20L4 18.59l7.72-7.72 1.47 1.35L5.41 20z\"/>\n",
              "  </svg>\n",
              "      </button>\n",
              "      \n",
              "  <style>\n",
              "    .colab-df-container {\n",
              "      display:flex;\n",
              "      flex-wrap:wrap;\n",
              "      gap: 12px;\n",
              "    }\n",
              "\n",
              "    .colab-df-convert {\n",
              "      background-color: #E8F0FE;\n",
              "      border: none;\n",
              "      border-radius: 50%;\n",
              "      cursor: pointer;\n",
              "      display: none;\n",
              "      fill: #1967D2;\n",
              "      height: 32px;\n",
              "      padding: 0 0 0 0;\n",
              "      width: 32px;\n",
              "    }\n",
              "\n",
              "    .colab-df-convert:hover {\n",
              "      background-color: #E2EBFA;\n",
              "      box-shadow: 0px 1px 2px rgba(60, 64, 67, 0.3), 0px 1px 3px 1px rgba(60, 64, 67, 0.15);\n",
              "      fill: #174EA6;\n",
              "    }\n",
              "\n",
              "    [theme=dark] .colab-df-convert {\n",
              "      background-color: #3B4455;\n",
              "      fill: #D2E3FC;\n",
              "    }\n",
              "\n",
              "    [theme=dark] .colab-df-convert:hover {\n",
              "      background-color: #434B5C;\n",
              "      box-shadow: 0px 1px 3px 1px rgba(0, 0, 0, 0.15);\n",
              "      filter: drop-shadow(0px 1px 2px rgba(0, 0, 0, 0.3));\n",
              "      fill: #FFFFFF;\n",
              "    }\n",
              "  </style>\n",
              "\n",
              "      <script>\n",
              "        const buttonEl =\n",
              "          document.querySelector('#df-77f91f78-fa76-4718-aa91-4d15e8516c09 button.colab-df-convert');\n",
              "        buttonEl.style.display =\n",
              "          google.colab.kernel.accessAllowed ? 'block' : 'none';\n",
              "\n",
              "        async function convertToInteractive(key) {\n",
              "          const element = document.querySelector('#df-77f91f78-fa76-4718-aa91-4d15e8516c09');\n",
              "          const dataTable =\n",
              "            await google.colab.kernel.invokeFunction('convertToInteractive',\n",
              "                                                     [key], {});\n",
              "          if (!dataTable) return;\n",
              "\n",
              "          const docLinkHtml = 'Like what you see? Visit the ' +\n",
              "            '<a target=\"_blank\" href=https://colab.research.google.com/notebooks/data_table.ipynb>data table notebook</a>'\n",
              "            + ' to learn more about interactive tables.';\n",
              "          element.innerHTML = '';\n",
              "          dataTable['output_type'] = 'display_data';\n",
              "          await google.colab.output.renderOutput(dataTable, element);\n",
              "          const docLink = document.createElement('div');\n",
              "          docLink.innerHTML = docLinkHtml;\n",
              "          element.appendChild(docLink);\n",
              "        }\n",
              "      </script>\n",
              "    </div>\n",
              "  </div>\n",
              "  "
            ]
          },
          "metadata": {},
          "execution_count": 71
        }
      ]
    },
    {
      "cell_type": "code",
      "source": [
        "train.shape # looking ath number of entries in the dataset"
      ],
      "metadata": {
        "colab": {
          "base_uri": "https://localhost:8080/"
        },
        "id": "pFzxcCq0BBOJ",
        "outputId": "c659e3f3-3ac5-4077-f7fa-0eaeacb878f5"
      },
      "execution_count": null,
      "outputs": [
        {
          "output_type": "execute_result",
          "data": {
            "text/plain": [
              "(161297, 7)"
            ]
          },
          "metadata": {},
          "execution_count": 72
        }
      ]
    },
    {
      "cell_type": "code",
      "source": [
        "# Importing the Huggingface Transformers library"
      ],
      "metadata": {
        "id": "HA53kOUz3zSr"
      },
      "execution_count": null,
      "outputs": []
    },
    {
      "cell_type": "code",
      "source": [
        "!pip install -q -U watermark"
      ],
      "metadata": {
        "id": "nugoUqct9qvG"
      },
      "execution_count": null,
      "outputs": []
    },
    {
      "cell_type": "code",
      "source": [
        "!pip install -qq transformers"
      ],
      "metadata": {
        "id": "h01oOHVW9qet"
      },
      "execution_count": null,
      "outputs": []
    },
    {
      "cell_type": "code",
      "source": [
        "%reload_ext watermark\n",
        "%watermark -v -p numpy,pandas,torch,transformers"
      ],
      "metadata": {
        "colab": {
          "base_uri": "https://localhost:8080/"
        },
        "id": "usQeDHhv9wk1",
        "outputId": "3efcc900-6a75-468e-a5a3-faae25d7938e"
      },
      "execution_count": null,
      "outputs": [
        {
          "output_type": "stream",
          "name": "stdout",
          "text": [
            "Python implementation: CPython\n",
            "Python version       : 3.7.13\n",
            "IPython version      : 5.5.0\n",
            "\n",
            "numpy       : 1.21.6\n",
            "pandas      : 1.3.5\n",
            "torch       : 1.12.0+cu113\n",
            "transformers: 4.21.0\n",
            "\n"
          ]
        }
      ]
    },
    {
      "cell_type": "code",
      "source": [
        "# Importing transformers and other libraries:\n",
        "import transformers\n",
        "from transformers import BertModel, BertTokenizer, AdamW, get_linear_schedule_with_warmup\n",
        "import torch\n",
        "\n",
        "import numpy as np\n",
        "import pandas as pd\n",
        "import seaborn as sns\n",
        "from pylab import rcParams\n",
        "import matplotlib.pyplot as plt\n",
        "from matplotlib import rc\n",
        "from sklearn import preprocessing\n",
        "from sklearn.model_selection import train_test_split\n",
        "from sklearn.metrics import confusion_matrix, classification_report\n",
        "from collections import defaultdict\n",
        "from textwrap import wrap\n",
        "\n",
        "from torch import nn, optim\n",
        "from torch.utils.data import Dataset, DataLoader\n",
        "import torch.nn.functional as F\n",
        "\n",
        "%matplotlib inline\n",
        "%config InlineBackend.figure_format='retina'\n",
        "\n",
        "sns.set(style='whitegrid', palette='muted', font_scale=1.2)\n",
        "\n",
        "HAPPY_COLORS_PALETTE = [\"#01BEFE\", \"#FFDD00\", \"#FF7D00\", \"#FF006D\", \"#ADFF02\", \"#8F00FF\"]\n",
        "\n",
        "sns.set_palette(sns.color_palette(HAPPY_COLORS_PALETTE))\n",
        "\n",
        "rcParams['figure.figsize'] = 12, 8\n",
        "\n",
        "RANDOM_SEED = 42\n",
        "np.random.seed(RANDOM_SEED)\n",
        "torch.manual_seed(RANDOM_SEED)\n",
        "\n",
        "device = torch.device(\"cuda:0\" if torch.cuda.is_available() else \"cpu\")\n",
        "device"
      ],
      "metadata": {
        "colab": {
          "base_uri": "https://localhost:8080/"
        },
        "id": "v0aNEPPh99om",
        "outputId": "f6385076-6b99-4381-8dcb-ec8da24edd02"
      },
      "execution_count": null,
      "outputs": [
        {
          "output_type": "execute_result",
          "data": {
            "text/plain": [
              "device(type='cuda', index=0)"
            ]
          },
          "metadata": {},
          "execution_count": 77
        }
      ]
    },
    {
      "cell_type": "code",
      "source": [
        "# Defining a function to categorize ratings as sentiments \"negative\" (<=4), neutral (> 4 and < 7), \"positive\" (>= 7)\n",
        "\n",
        "def rating_to_sent(rating):\n",
        "  rating = int(rating)\n",
        "  if rating <= 4:\n",
        "    return \"negative\"\n",
        "  elif rating > 4 and rating < 7:\n",
        "    return \"neutral\"\n",
        "  elif rating >= 7:\n",
        "    return \"positive\""
      ],
      "metadata": {
        "id": "syNrT5IL-ecw"
      },
      "execution_count": null,
      "outputs": []
    },
    {
      "cell_type": "code",
      "source": [
        "# Applying our function to the ratings column in training and test sets:\n",
        "\n",
        "train['sentiment'] = train.rating.apply(rating_to_sent)\n",
        "test['sentiment'] = test.rating.apply(rating_to_sent)"
      ],
      "metadata": {
        "id": "9gXwFg0E-LXZ"
      },
      "execution_count": null,
      "outputs": []
    },
    {
      "cell_type": "code",
      "source": [
        "train.head() # we can see that the \"sentiment\" column classifies ratings as either 0 (\"negative\"), 2 (\"positive\"), or 1 (\"neutral\")"
      ],
      "metadata": {
        "colab": {
          "base_uri": "https://localhost:8080/",
          "height": 206
        },
        "id": "UyfJJhUL_9yN",
        "outputId": "2c87e4c0-ce52-47ab-b2e5-e246b7a9f0c7"
      },
      "execution_count": null,
      "outputs": [
        {
          "output_type": "execute_result",
          "data": {
            "text/plain": [
              "   Unnamed: 0                  drugName                     condition  \\\n",
              "0      206461                 Valsartan  Left Ventricular Dysfunction   \n",
              "1       95260                Guanfacine                          ADHD   \n",
              "2       92703                    Lybrel                 Birth Control   \n",
              "3      138000                Ortho Evra                 Birth Control   \n",
              "4       35696  Buprenorphine / naloxone             Opiate Dependence   \n",
              "\n",
              "                                              review  rating  \\\n",
              "0  \"It has no side effect, I take it in combinati...     9.0   \n",
              "1  \"My son is halfway through his fourth week of ...     8.0   \n",
              "2  \"I used to take another oral contraceptive, wh...     5.0   \n",
              "3  \"This is my first time using any form of birth...     8.0   \n",
              "4  \"Suboxone has completely turned my life around...     9.0   \n",
              "\n",
              "                date  usefulCount sentiment  \n",
              "0       May 20, 2012           27  positive  \n",
              "1     April 27, 2010          192  positive  \n",
              "2  December 14, 2009           17   neutral  \n",
              "3   November 3, 2015           10  positive  \n",
              "4  November 27, 2016           37  positive  "
            ],
            "text/html": [
              "\n",
              "  <div id=\"df-3481b608-a2a1-45e7-9627-88ccab31980e\">\n",
              "    <div class=\"colab-df-container\">\n",
              "      <div>\n",
              "<style scoped>\n",
              "    .dataframe tbody tr th:only-of-type {\n",
              "        vertical-align: middle;\n",
              "    }\n",
              "\n",
              "    .dataframe tbody tr th {\n",
              "        vertical-align: top;\n",
              "    }\n",
              "\n",
              "    .dataframe thead th {\n",
              "        text-align: right;\n",
              "    }\n",
              "</style>\n",
              "<table border=\"1\" class=\"dataframe\">\n",
              "  <thead>\n",
              "    <tr style=\"text-align: right;\">\n",
              "      <th></th>\n",
              "      <th>Unnamed: 0</th>\n",
              "      <th>drugName</th>\n",
              "      <th>condition</th>\n",
              "      <th>review</th>\n",
              "      <th>rating</th>\n",
              "      <th>date</th>\n",
              "      <th>usefulCount</th>\n",
              "      <th>sentiment</th>\n",
              "    </tr>\n",
              "  </thead>\n",
              "  <tbody>\n",
              "    <tr>\n",
              "      <th>0</th>\n",
              "      <td>206461</td>\n",
              "      <td>Valsartan</td>\n",
              "      <td>Left Ventricular Dysfunction</td>\n",
              "      <td>\"It has no side effect, I take it in combinati...</td>\n",
              "      <td>9.0</td>\n",
              "      <td>May 20, 2012</td>\n",
              "      <td>27</td>\n",
              "      <td>positive</td>\n",
              "    </tr>\n",
              "    <tr>\n",
              "      <th>1</th>\n",
              "      <td>95260</td>\n",
              "      <td>Guanfacine</td>\n",
              "      <td>ADHD</td>\n",
              "      <td>\"My son is halfway through his fourth week of ...</td>\n",
              "      <td>8.0</td>\n",
              "      <td>April 27, 2010</td>\n",
              "      <td>192</td>\n",
              "      <td>positive</td>\n",
              "    </tr>\n",
              "    <tr>\n",
              "      <th>2</th>\n",
              "      <td>92703</td>\n",
              "      <td>Lybrel</td>\n",
              "      <td>Birth Control</td>\n",
              "      <td>\"I used to take another oral contraceptive, wh...</td>\n",
              "      <td>5.0</td>\n",
              "      <td>December 14, 2009</td>\n",
              "      <td>17</td>\n",
              "      <td>neutral</td>\n",
              "    </tr>\n",
              "    <tr>\n",
              "      <th>3</th>\n",
              "      <td>138000</td>\n",
              "      <td>Ortho Evra</td>\n",
              "      <td>Birth Control</td>\n",
              "      <td>\"This is my first time using any form of birth...</td>\n",
              "      <td>8.0</td>\n",
              "      <td>November 3, 2015</td>\n",
              "      <td>10</td>\n",
              "      <td>positive</td>\n",
              "    </tr>\n",
              "    <tr>\n",
              "      <th>4</th>\n",
              "      <td>35696</td>\n",
              "      <td>Buprenorphine / naloxone</td>\n",
              "      <td>Opiate Dependence</td>\n",
              "      <td>\"Suboxone has completely turned my life around...</td>\n",
              "      <td>9.0</td>\n",
              "      <td>November 27, 2016</td>\n",
              "      <td>37</td>\n",
              "      <td>positive</td>\n",
              "    </tr>\n",
              "  </tbody>\n",
              "</table>\n",
              "</div>\n",
              "      <button class=\"colab-df-convert\" onclick=\"convertToInteractive('df-3481b608-a2a1-45e7-9627-88ccab31980e')\"\n",
              "              title=\"Convert this dataframe to an interactive table.\"\n",
              "              style=\"display:none;\">\n",
              "        \n",
              "  <svg xmlns=\"http://www.w3.org/2000/svg\" height=\"24px\"viewBox=\"0 0 24 24\"\n",
              "       width=\"24px\">\n",
              "    <path d=\"M0 0h24v24H0V0z\" fill=\"none\"/>\n",
              "    <path d=\"M18.56 5.44l.94 2.06.94-2.06 2.06-.94-2.06-.94-.94-2.06-.94 2.06-2.06.94zm-11 1L8.5 8.5l.94-2.06 2.06-.94-2.06-.94L8.5 2.5l-.94 2.06-2.06.94zm10 10l.94 2.06.94-2.06 2.06-.94-2.06-.94-.94-2.06-.94 2.06-2.06.94z\"/><path d=\"M17.41 7.96l-1.37-1.37c-.4-.4-.92-.59-1.43-.59-.52 0-1.04.2-1.43.59L10.3 9.45l-7.72 7.72c-.78.78-.78 2.05 0 2.83L4 21.41c.39.39.9.59 1.41.59.51 0 1.02-.2 1.41-.59l7.78-7.78 2.81-2.81c.8-.78.8-2.07 0-2.86zM5.41 20L4 18.59l7.72-7.72 1.47 1.35L5.41 20z\"/>\n",
              "  </svg>\n",
              "      </button>\n",
              "      \n",
              "  <style>\n",
              "    .colab-df-container {\n",
              "      display:flex;\n",
              "      flex-wrap:wrap;\n",
              "      gap: 12px;\n",
              "    }\n",
              "\n",
              "    .colab-df-convert {\n",
              "      background-color: #E8F0FE;\n",
              "      border: none;\n",
              "      border-radius: 50%;\n",
              "      cursor: pointer;\n",
              "      display: none;\n",
              "      fill: #1967D2;\n",
              "      height: 32px;\n",
              "      padding: 0 0 0 0;\n",
              "      width: 32px;\n",
              "    }\n",
              "\n",
              "    .colab-df-convert:hover {\n",
              "      background-color: #E2EBFA;\n",
              "      box-shadow: 0px 1px 2px rgba(60, 64, 67, 0.3), 0px 1px 3px 1px rgba(60, 64, 67, 0.15);\n",
              "      fill: #174EA6;\n",
              "    }\n",
              "\n",
              "    [theme=dark] .colab-df-convert {\n",
              "      background-color: #3B4455;\n",
              "      fill: #D2E3FC;\n",
              "    }\n",
              "\n",
              "    [theme=dark] .colab-df-convert:hover {\n",
              "      background-color: #434B5C;\n",
              "      box-shadow: 0px 1px 3px 1px rgba(0, 0, 0, 0.15);\n",
              "      filter: drop-shadow(0px 1px 2px rgba(0, 0, 0, 0.3));\n",
              "      fill: #FFFFFF;\n",
              "    }\n",
              "  </style>\n",
              "\n",
              "      <script>\n",
              "        const buttonEl =\n",
              "          document.querySelector('#df-3481b608-a2a1-45e7-9627-88ccab31980e button.colab-df-convert');\n",
              "        buttonEl.style.display =\n",
              "          google.colab.kernel.accessAllowed ? 'block' : 'none';\n",
              "\n",
              "        async function convertToInteractive(key) {\n",
              "          const element = document.querySelector('#df-3481b608-a2a1-45e7-9627-88ccab31980e');\n",
              "          const dataTable =\n",
              "            await google.colab.kernel.invokeFunction('convertToInteractive',\n",
              "                                                     [key], {});\n",
              "          if (!dataTable) return;\n",
              "\n",
              "          const docLinkHtml = 'Like what you see? Visit the ' +\n",
              "            '<a target=\"_blank\" href=https://colab.research.google.com/notebooks/data_table.ipynb>data table notebook</a>'\n",
              "            + ' to learn more about interactive tables.';\n",
              "          element.innerHTML = '';\n",
              "          dataTable['output_type'] = 'display_data';\n",
              "          await google.colab.output.renderOutput(dataTable, element);\n",
              "          const docLink = document.createElement('div');\n",
              "          docLink.innerHTML = docLinkHtml;\n",
              "          element.appendChild(docLink);\n",
              "        }\n",
              "      </script>\n",
              "    </div>\n",
              "  </div>\n",
              "  "
            ]
          },
          "metadata": {},
          "execution_count": 80
        }
      ]
    },
    {
      "cell_type": "code",
      "source": [
        "#Histogram of the differenr classes\n",
        "plt.figure(figsize = (4,4))\n",
        "sns.histplot(train.sentiment)\n",
        "plt.title(\"Class distributions\")\n",
        "plt.show()"
      ],
      "metadata": {
        "colab": {
          "base_uri": "https://localhost:8080/",
          "height": 306
        },
        "id": "d34o6UNuAgSx",
        "outputId": "9d874890-50b2-4a68-ff17-7eb71004ebaa"
      },
      "execution_count": null,
      "outputs": [
        {
          "output_type": "display_data",
          "data": {
            "text/plain": [
              "<Figure size 288x288 with 1 Axes>"
            ],
            "image/png": "[encoded data removed]"
          },
          "metadata": {
            "image/png": {
              "width": 315,
              "height": 289
            }
          }
        }
      ]
    },
    {
      "cell_type": "markdown",
      "source": [
        "The classes are highly imbalanced. There are very few neutral reviews. This may affect the results."
      ],
      "metadata": {
        "id": "0b78LD4EB7Kr"
      }
    },
    {
      "cell_type": "code",
      "source": [
        "#label encoding the sentiment analysis column into different multi-classes (0,1,3) and adding the column Lebl to the dataframe\n",
        "le = preprocessing.LabelEncoder()\n",
        "\n",
        "train['label'] = le.fit_transform(train['sentiment'])\n",
        "test['label'] = le.transform(test['sentiment'])"
      ],
      "metadata": {
        "id": "lVSwTnfjD4BQ"
      },
      "execution_count": null,
      "outputs": []
    },
    {
      "cell_type": "code",
      "source": [
        "!pip install transformers datasets"
      ],
      "metadata": {
        "colab": {
          "base_uri": "https://localhost:8080/"
        },
        "id": "oAAosKXbJlls",
        "outputId": "79d1b755-7dd2-4392-a034-a3b12bfc7beb"
      },
      "execution_count": null,
      "outputs": [
        {
          "output_type": "stream",
          "name": "stdout",
          "text": [
            "Looking in indexes: https://pypi.org/simple, https://us-python.pkg.dev/colab-wheels/public/simple/\n",
            "Requirement already satisfied: transformers in /usr/local/lib/python3.7/dist-packages (4.21.0)\n",
            "Requirement already satisfied: datasets in /usr/local/lib/python3.7/dist-packages (2.4.0)\n",
            "Requirement already satisfied: tqdm>=4.27 in /usr/local/lib/python3.7/dist-packages (from transformers) (4.64.0)\n",
            "Requirement already satisfied: tokenizers!=0.11.3,<0.13,>=0.11.1 in /usr/local/lib/python3.7/dist-packages (from transformers) (0.12.1)\n",
            "Requirement already satisfied: importlib-metadata in /usr/local/lib/python3.7/dist-packages (from transformers) (4.12.0)\n",
            "Requirement already satisfied: requests in /usr/local/lib/python3.7/dist-packages (from transformers) (2.23.0)\n",
            "Requirement already satisfied: packaging>=20.0 in /usr/local/lib/python3.7/dist-packages (from transformers) (21.3)\n",
            "Requirement already satisfied: regex!=2019.12.17 in /usr/local/lib/python3.7/dist-packages (from transformers) (2022.6.2)\n",
            "Requirement already satisfied: huggingface-hub<1.0,>=0.1.0 in /usr/local/lib/python3.7/dist-packages (from transformers) (0.8.1)\n",
            "Requirement already satisfied: pyyaml>=5.1 in /usr/local/lib/python3.7/dist-packages (from transformers) (6.0)\n",
            "Requirement already satisfied: filelock in /usr/local/lib/python3.7/dist-packages (from transformers) (3.7.1)\n",
            "Requirement already satisfied: numpy>=1.17 in /usr/local/lib/python3.7/dist-packages (from transformers) (1.21.6)\n",
            "Requirement already satisfied: typing-extensions>=3.7.4.3 in /usr/local/lib/python3.7/dist-packages (from huggingface-hub<1.0,>=0.1.0->transformers) (4.1.1)\n",
            "Requirement already satisfied: pyparsing!=3.0.5,>=2.0.2 in /usr/local/lib/python3.7/dist-packages (from packaging>=20.0->transformers) (3.0.9)\n",
            "Requirement already satisfied: responses<0.19 in /usr/local/lib/python3.7/dist-packages (from datasets) (0.18.0)\n",
            "Requirement already satisfied: aiohttp in /usr/local/lib/python3.7/dist-packages (from datasets) (3.8.1)\n",
            "Requirement already satisfied: pyarrow>=6.0.0 in /usr/local/lib/python3.7/dist-packages (from datasets) (6.0.1)\n",
            "Requirement already satisfied: xxhash in /usr/local/lib/python3.7/dist-packages (from datasets) (3.0.0)\n",
            "Requirement already satisfied: pandas in /usr/local/lib/python3.7/dist-packages (from datasets) (1.3.5)\n",
            "Requirement already satisfied: multiprocess in /usr/local/lib/python3.7/dist-packages (from datasets) (0.70.13)\n",
            "Requirement already satisfied: fsspec[http]>=2021.11.1 in /usr/local/lib/python3.7/dist-packages (from datasets) (2022.7.1)\n",
            "Requirement already satisfied: dill<0.3.6 in /usr/local/lib/python3.7/dist-packages (from datasets) (0.3.5.1)\n",
            "Requirement already satisfied: idna<3,>=2.5 in /usr/local/lib/python3.7/dist-packages (from requests->transformers) (2.10)\n",
            "Requirement already satisfied: urllib3!=1.25.0,!=1.25.1,<1.26,>=1.21.1 in /usr/local/lib/python3.7/dist-packages (from requests->transformers) (1.25.11)\n",
            "Requirement already satisfied: chardet<4,>=3.0.2 in /usr/local/lib/python3.7/dist-packages (from requests->transformers) (3.0.4)\n",
            "Requirement already satisfied: certifi>=2017.4.17 in /usr/local/lib/python3.7/dist-packages (from requests->transformers) (2022.6.15)\n",
            "Requirement already satisfied: frozenlist>=1.1.1 in /usr/local/lib/python3.7/dist-packages (from aiohttp->datasets) (1.3.0)\n",
            "Requirement already satisfied: attrs>=17.3.0 in /usr/local/lib/python3.7/dist-packages (from aiohttp->datasets) (22.1.0)\n",
            "Requirement already satisfied: charset-normalizer<3.0,>=2.0 in /usr/local/lib/python3.7/dist-packages (from aiohttp->datasets) (2.1.0)\n",
            "Requirement already satisfied: async-timeout<5.0,>=4.0.0a3 in /usr/local/lib/python3.7/dist-packages (from aiohttp->datasets) (4.0.2)\n",
            "Requirement already satisfied: yarl<2.0,>=1.0 in /usr/local/lib/python3.7/dist-packages (from aiohttp->datasets) (1.7.2)\n",
            "Requirement already satisfied: asynctest==0.13.0 in /usr/local/lib/python3.7/dist-packages (from aiohttp->datasets) (0.13.0)\n",
            "Requirement already satisfied: aiosignal>=1.1.2 in /usr/local/lib/python3.7/dist-packages (from aiohttp->datasets) (1.2.0)\n",
            "Requirement already satisfied: multidict<7.0,>=4.5 in /usr/local/lib/python3.7/dist-packages (from aiohttp->datasets) (6.0.2)\n",
            "Requirement already satisfied: zipp>=0.5 in /usr/local/lib/python3.7/dist-packages (from importlib-metadata->transformers) (3.8.1)\n",
            "Requirement already satisfied: python-dateutil>=2.7.3 in /usr/local/lib/python3.7/dist-packages (from pandas->datasets) (2.8.2)\n",
            "Requirement already satisfied: pytz>=2017.3 in /usr/local/lib/python3.7/dist-packages (from pandas->datasets) (2022.1)\n",
            "Requirement already satisfied: six>=1.5 in /usr/local/lib/python3.7/dist-packages (from python-dateutil>=2.7.3->pandas->datasets) (1.15.0)\n"
          ]
        }
      ]
    },
    {
      "cell_type": "markdown",
      "source": [
        "###Splitting Data"
      ],
      "metadata": {
        "id": "pqg0XBfu2_hN"
      }
    },
    {
      "cell_type": "code",
      "source": [
        "#spliiting our train data into 75% train set and 25% validation set\n",
        "df_train, df_val = train_test_split(train, test_size=0.25, random_state=RANDOM_SEED)\n"
      ],
      "metadata": {
        "id": "NGh6faNFUXee"
      },
      "execution_count": null,
      "outputs": []
    },
    {
      "cell_type": "markdown",
      "source": [
        "###Initializing maximum length of the text in review column"
      ],
      "metadata": {
        "id": "a0sK0lS33NGi"
      }
    },
    {
      "cell_type": "code",
      "source": [
        "#creating an empty dictionary for token length\n",
        "token_lens = []\n",
        "\n",
        "for txt in train.review:\n",
        "  tokens = tokenizer.encode(txt,truncation=True,max_length = 512)\n",
        "  token_lens.append(len(tokens))"
      ],
      "metadata": {
        "id": "ecVaIwwfhg8m"
      },
      "execution_count": null,
      "outputs": []
    },
    {
      "cell_type": "code",
      "source": [
        "#Density plot for tokens_length\n",
        "sns.distplot(token_lens)\n",
        "plt.xlim([0, 500]);\n",
        "plt.xlabel('Token count');"
      ],
      "metadata": {
        "id": "DY0Qi_1PhkaY",
        "colab": {
          "base_uri": "https://localhost:8080/",
          "height": 566
        },
        "outputId": "c17a48ba-d18c-41e1-add7-e930aa0d5199"
      },
      "execution_count": null,
      "outputs": [
        {
          "output_type": "stream",
          "name": "stderr",
          "text": [
            "/usr/local/lib/python3.7/dist-packages/seaborn/distributions.py:2619: FutureWarning: `distplot` is a deprecated function and will be removed in a future version. Please adapt your code to use either `displot` (a figure-level function with similar flexibility) or `histplot` (an axes-level function for histograms).\n",
            "  warnings.warn(msg, FutureWarning)\n"
          ]
        },
        {
          "output_type": "display_data",
          "data": {
            "text/plain": [
              "<Figure size 864x576 with 1 Axes>"
            ],
            "image/png": "[encoded data removed]"
          },
          "metadata": {
            "image/png": {
              "width": 761,
              "height": 494
            }
          }
        }
      ]
    },
    {
      "cell_type": "markdown",
      "source": [
        "Here we observed that the appropriate maximum length for the tokens is nearly \"280\""
      ],
      "metadata": {
        "id": "_47Kjr110bNX"
      }
    },
    {
      "cell_type": "markdown",
      "source": [
        "###Tokenization"
      ],
      "metadata": {
        "id": "O6AY5E8f2ygl"
      }
    },
    {
      "cell_type": "code",
      "source": [
        "# loading pretrained BertTokenizer: We used small small model for our prediction\n",
        "tokenizer = BertTokenizer.from_pretrained(\"google/bert_uncased_L-4_H-512_A-8\")"
      ],
      "metadata": {
        "id": "pgKa8TKlCekF"
      },
      "execution_count": null,
      "outputs": []
    },
    {
      "cell_type": "code",
      "source": [
        "class DrugReviewDataset(Dataset):\n",
        "  '''\n",
        "  Intializing the attributes for our text content(review column in our dataframe),target which are labels, tokenizer(BertTokenizer)\n",
        "  and maximum length including panding and truncation.This function will return a dictionary after tokenizating the data into review_text,input ids,\n",
        "  attention_masks and target_ids\n",
        "  '''\n",
        "\n",
        "  def __init__(self, reviews, targets, tokenizer, max_len):\n",
        "    self.reviews = reviews\n",
        "    self.targets = targets\n",
        "    self.tokenizer = tokenizer\n",
        "    self.max_len = max_len\n",
        "\n",
        "  def __len__(self):\n",
        "    return len(self.reviews)\n",
        "\n",
        "  def __getitem__(self, item):\n",
        "    review = str(self.reviews[item])\n",
        "    target = self.targets[item]\n",
        "\n",
        "    encoding = self.tokenizer.encode_plus(\n",
        "      review,\n",
        "      add_special_tokens=True,\n",
        "      max_length=self.max_len,\n",
        "      return_token_type_ids=False,\n",
        "      truncation=True,\n",
        "      padding=\"max_length\",\n",
        "      return_attention_mask=True,\n",
        "      return_tensors='pt',\n",
        "    )\n",
        "\n",
        "    return {\n",
        "      'review_text': review,\n",
        "      'input_ids': encoding['input_ids'].flatten(),\n",
        "      'attention_mask': encoding['attention_mask'].flatten(),\n",
        "      'targets': torch.tensor(target, dtype=torch.long)\n",
        "    }"
      ],
      "metadata": {
        "id": "PdiFOqFwtNUD"
      },
      "execution_count": null,
      "outputs": []
    },
    {
      "cell_type": "code",
      "source": [
        "df_train.head()"
      ],
      "metadata": {
        "colab": {
          "base_uri": "https://localhost:8080/",
          "height": 206
        },
        "id": "tVRiGMiwwFpw",
        "outputId": "60cc3f3f-bda3-4715-cfed-18669027e540"
      },
      "execution_count": null,
      "outputs": [
        {
          "output_type": "execute_result",
          "data": {
            "text/plain": [
              "        Unnamed: 0                          drugName           condition  \\\n",
              "56300       223288                        Cetirizine   Allergic Rhinitis   \n",
              "91115       192481  Drospirenone / ethinyl estradiol       Birth Control   \n",
              "4658         62089                        Citalopram  Anxiety and Stress   \n",
              "26163        74616                     Wellbutrin SR          Depression   \n",
              "122972      116207                        Adalimumab           Psoriasis   \n",
              "\n",
              "                                                   review  rating  \\\n",
              "56300   \"I would just like to add a positive review in...     9.0   \n",
              "91115   \"I have been taking Gianvi for 9 months now. T...     8.0   \n",
              "4658    \"I&#039;m a 25 year old female and my doctor p...     7.0   \n",
              "26163   \"Dopamine and norepinephrine are two major bra...     9.0   \n",
              "122972  \"Worked good for about 4 months then my psoria...     5.0   \n",
              "\n",
              "                     date  usefulCount sentiment  label  \n",
              "56300   November 30, 2016           10  positive      2  \n",
              "91115    December 7, 2013           19  positive      2  \n",
              "4658    September 1, 2014          102  positive      2  \n",
              "26163   September 3, 2017           25  positive      2  \n",
              "122972     April 28, 2016            8   neutral      1  "
            ],
            "text/html": [
              "\n",
              "  <div id=\"df-1533c4fe-9076-4424-98a6-c269e7446a17\">\n",
              "    <div class=\"colab-df-container\">\n",
              "      <div>\n",
              "<style scoped>\n",
              "    .dataframe tbody tr th:only-of-type {\n",
              "        vertical-align: middle;\n",
              "    }\n",
              "\n",
              "    .dataframe tbody tr th {\n",
              "        vertical-align: top;\n",
              "    }\n",
              "\n",
              "    .dataframe thead th {\n",
              "        text-align: right;\n",
              "    }\n",
              "</style>\n",
              "<table border=\"1\" class=\"dataframe\">\n",
              "  <thead>\n",
              "    <tr style=\"text-align: right;\">\n",
              "      <th></th>\n",
              "      <th>Unnamed: 0</th>\n",
              "      <th>drugName</th>\n",
              "      <th>condition</th>\n",
              "      <th>review</th>\n",
              "      <th>rating</th>\n",
              "      <th>date</th>\n",
              "      <th>usefulCount</th>\n",
              "      <th>sentiment</th>\n",
              "      <th>label</th>\n",
              "    </tr>\n",
              "  </thead>\n",
              "  <tbody>\n",
              "    <tr>\n",
              "      <th>56300</th>\n",
              "      <td>223288</td>\n",
              "      <td>Cetirizine</td>\n",
              "      <td>Allergic Rhinitis</td>\n",
              "      <td>\"I would just like to add a positive review in...</td>\n",
              "      <td>9.0</td>\n",
              "      <td>November 30, 2016</td>\n",
              "      <td>10</td>\n",
              "      <td>positive</td>\n",
              "      <td>2</td>\n",
              "    </tr>\n",
              "    <tr>\n",
              "      <th>91115</th>\n",
              "      <td>192481</td>\n",
              "      <td>Drospirenone / ethinyl estradiol</td>\n",
              "      <td>Birth Control</td>\n",
              "      <td>\"I have been taking Gianvi for 9 months now. T...</td>\n",
              "      <td>8.0</td>\n",
              "      <td>December 7, 2013</td>\n",
              "      <td>19</td>\n",
              "      <td>positive</td>\n",
              "      <td>2</td>\n",
              "    </tr>\n",
              "    <tr>\n",
              "      <th>4658</th>\n",
              "      <td>62089</td>\n",
              "      <td>Citalopram</td>\n",
              "      <td>Anxiety and Stress</td>\n",
              "      <td>\"I&amp;#039;m a 25 year old female and my doctor p...</td>\n",
              "      <td>7.0</td>\n",
              "      <td>September 1, 2014</td>\n",
              "      <td>102</td>\n",
              "      <td>positive</td>\n",
              "      <td>2</td>\n",
              "    </tr>\n",
              "    <tr>\n",
              "      <th>26163</th>\n",
              "      <td>74616</td>\n",
              "      <td>Wellbutrin SR</td>\n",
              "      <td>Depression</td>\n",
              "      <td>\"Dopamine and norepinephrine are two major bra...</td>\n",
              "      <td>9.0</td>\n",
              "      <td>September 3, 2017</td>\n",
              "      <td>25</td>\n",
              "      <td>positive</td>\n",
              "      <td>2</td>\n",
              "    </tr>\n",
              "    <tr>\n",
              "      <th>122972</th>\n",
              "      <td>116207</td>\n",
              "      <td>Adalimumab</td>\n",
              "      <td>Psoriasis</td>\n",
              "      <td>\"Worked good for about 4 months then my psoria...</td>\n",
              "      <td>5.0</td>\n",
              "      <td>April 28, 2016</td>\n",
              "      <td>8</td>\n",
              "      <td>neutral</td>\n",
              "      <td>1</td>\n",
              "    </tr>\n",
              "  </tbody>\n",
              "</table>\n",
              "</div>\n",
              "      <button class=\"colab-df-convert\" onclick=\"convertToInteractive('df-1533c4fe-9076-4424-98a6-c269e7446a17')\"\n",
              "              title=\"Convert this dataframe to an interactive table.\"\n",
              "              style=\"display:none;\">\n",
              "        \n",
              "  <svg xmlns=\"http://www.w3.org/2000/svg\" height=\"24px\"viewBox=\"0 0 24 24\"\n",
              "       width=\"24px\">\n",
              "    <path d=\"M0 0h24v24H0V0z\" fill=\"none\"/>\n",
              "    <path d=\"M18.56 5.44l.94 2.06.94-2.06 2.06-.94-2.06-.94-.94-2.06-.94 2.06-2.06.94zm-11 1L8.5 8.5l.94-2.06 2.06-.94-2.06-.94L8.5 2.5l-.94 2.06-2.06.94zm10 10l.94 2.06.94-2.06 2.06-.94-2.06-.94-.94-2.06-.94 2.06-2.06.94z\"/><path d=\"M17.41 7.96l-1.37-1.37c-.4-.4-.92-.59-1.43-.59-.52 0-1.04.2-1.43.59L10.3 9.45l-7.72 7.72c-.78.78-.78 2.05 0 2.83L4 21.41c.39.39.9.59 1.41.59.51 0 1.02-.2 1.41-.59l7.78-7.78 2.81-2.81c.8-.78.8-2.07 0-2.86zM5.41 20L4 18.59l7.72-7.72 1.47 1.35L5.41 20z\"/>\n",
              "  </svg>\n",
              "      </button>\n",
              "      \n",
              "  <style>\n",
              "    .colab-df-container {\n",
              "      display:flex;\n",
              "      flex-wrap:wrap;\n",
              "      gap: 12px;\n",
              "    }\n",
              "\n",
              "    .colab-df-convert {\n",
              "      background-color: #E8F0FE;\n",
              "      border: none;\n",
              "      border-radius: 50%;\n",
              "      cursor: pointer;\n",
              "      display: none;\n",
              "      fill: #1967D2;\n",
              "      height: 32px;\n",
              "      padding: 0 0 0 0;\n",
              "      width: 32px;\n",
              "    }\n",
              "\n",
              "    .colab-df-convert:hover {\n",
              "      background-color: #E2EBFA;\n",
              "      box-shadow: 0px 1px 2px rgba(60, 64, 67, 0.3), 0px 1px 3px 1px rgba(60, 64, 67, 0.15);\n",
              "      fill: #174EA6;\n",
              "    }\n",
              "\n",
              "    [theme=dark] .colab-df-convert {\n",
              "      background-color: #3B4455;\n",
              "      fill: #D2E3FC;\n",
              "    }\n",
              "\n",
              "    [theme=dark] .colab-df-convert:hover {\n",
              "      background-color: #434B5C;\n",
              "      box-shadow: 0px 1px 3px 1px rgba(0, 0, 0, 0.15);\n",
              "      filter: drop-shadow(0px 1px 2px rgba(0, 0, 0, 0.3));\n",
              "      fill: #FFFFFF;\n",
              "    }\n",
              "  </style>\n",
              "\n",
              "      <script>\n",
              "        const buttonEl =\n",
              "          document.querySelector('#df-1533c4fe-9076-4424-98a6-c269e7446a17 button.colab-df-convert');\n",
              "        buttonEl.style.display =\n",
              "          google.colab.kernel.accessAllowed ? 'block' : 'none';\n",
              "\n",
              "        async function convertToInteractive(key) {\n",
              "          const element = document.querySelector('#df-1533c4fe-9076-4424-98a6-c269e7446a17');\n",
              "          const dataTable =\n",
              "            await google.colab.kernel.invokeFunction('convertToInteractive',\n",
              "                                                     [key], {});\n",
              "          if (!dataTable) return;\n",
              "\n",
              "          const docLinkHtml = 'Like what you see? Visit the ' +\n",
              "            '<a target=\"_blank\" href=https://colab.research.google.com/notebooks/data_table.ipynb>data table notebook</a>'\n",
              "            + ' to learn more about interactive tables.';\n",
              "          element.innerHTML = '';\n",
              "          dataTable['output_type'] = 'display_data';\n",
              "          await google.colab.output.renderOutput(dataTable, element);\n",
              "          const docLink = document.createElement('div');\n",
              "          docLink.innerHTML = docLinkHtml;\n",
              "          element.appendChild(docLink);\n",
              "        }\n",
              "      </script>\n",
              "    </div>\n",
              "  </div>\n",
              "  "
            ]
          },
          "metadata": {},
          "execution_count": 92
        }
      ]
    },
    {
      "cell_type": "code",
      "source": [
        "'''\n",
        "Tokenizing Training dataframe\n",
        "'''\n",
        "train_ds = DrugReviewDataset(\n",
        "    reviews=df_train.review.to_numpy(),\n",
        "    targets=df_train.label.to_numpy(),\n",
        "    tokenizer=tokenizer,\n",
        "    max_len=280)"
      ],
      "metadata": {
        "id": "OGdS6pnYvvzV"
      },
      "execution_count": null,
      "outputs": []
    },
    {
      "cell_type": "code",
      "source": [
        "'''\n",
        "Tokenizing validation dataframe\n",
        "'''\n",
        "val_ds = DrugReviewDataset(\n",
        "    reviews=df_val.review.to_numpy(),\n",
        "    targets=df_val.label.to_numpy(),\n",
        "    tokenizer=tokenizer,\n",
        "    max_len=280)"
      ],
      "metadata": {
        "id": "ZCtarsMx1l5Y"
      },
      "execution_count": null,
      "outputs": []
    },
    {
      "cell_type": "code",
      "source": [
        "'''\n",
        "Tokenizing test dataframe\n",
        "'''\n",
        "test_ds = DrugReviewDataset(\n",
        "    reviews=test.review.to_numpy(),\n",
        "    targets=test.label.to_numpy(),\n",
        "    tokenizer=tokenizer,\n",
        "    max_len=280)"
      ],
      "metadata": {
        "id": "PsoRWhX_8-MF"
      },
      "execution_count": null,
      "outputs": []
    },
    {
      "cell_type": "code",
      "source": [
        "val_ds[0] #looking at only one sentence in the validation tokenizer"
      ],
      "metadata": {
        "colab": {
          "base_uri": "https://localhost:8080/"
        },
        "id": "wEK3gV5w1qg9",
        "outputId": "5847f9ed-c5f1-40ed-e295-2316ec7693a1"
      },
      "execution_count": null,
      "outputs": [
        {
          "output_type": "execute_result",
          "data": {
            "text/plain": [
              "{'attention_mask': tensor([1, 1, 1, 1, 1, 1, 1, 1, 1, 1, 1, 1, 1, 1, 1, 1, 1, 1, 1, 1, 1, 1, 1, 1,\n",
              "         1, 1, 1, 1, 1, 1, 1, 1, 1, 1, 1, 1, 1, 1, 1, 1, 1, 1, 1, 1, 1, 1, 1, 1,\n",
              "         1, 1, 1, 1, 1, 1, 1, 1, 1, 1, 1, 1, 1, 1, 1, 1, 1, 1, 1, 1, 1, 1, 1, 1,\n",
              "         1, 1, 1, 1, 1, 1, 1, 1, 1, 1, 1, 1, 1, 1, 1, 1, 1, 1, 1, 1, 1, 1, 1, 1,\n",
              "         1, 1, 1, 1, 1, 1, 1, 1, 1, 1, 1, 1, 1, 1, 1, 1, 1, 1, 1, 1, 1, 1, 1, 1,\n",
              "         1, 1, 1, 1, 1, 1, 1, 1, 1, 1, 1, 1, 1, 1, 1, 1, 1, 1, 1, 1, 1, 1, 1, 1,\n",
              "         1, 1, 1, 1, 1, 1, 1, 1, 1, 1, 1, 1, 1, 1, 1, 1, 1, 1, 1, 1, 1, 1, 1, 1,\n",
              "         1, 1, 1, 1, 1, 1, 1, 1, 1, 1, 1, 1, 1, 1, 1, 1, 1, 1, 1, 1, 1, 1, 1, 1,\n",
              "         1, 1, 1, 0, 0, 0, 0, 0, 0, 0, 0, 0, 0, 0, 0, 0, 0, 0, 0, 0, 0, 0, 0, 0,\n",
              "         0, 0, 0, 0, 0, 0, 0, 0, 0, 0, 0, 0, 0, 0, 0, 0, 0, 0, 0, 0, 0, 0, 0, 0,\n",
              "         0, 0, 0, 0, 0, 0, 0, 0, 0, 0, 0, 0, 0, 0, 0, 0, 0, 0, 0, 0, 0, 0, 0, 0,\n",
              "         0, 0, 0, 0, 0, 0, 0, 0, 0, 0, 0, 0, 0, 0, 0, 0]),\n",
              " 'input_ids': tensor([  101,  1000,  1045,  2318,  2635,  6887, 29110, 11233,  2074,  1037,\n",
              "          2210,  2058,  1037,  3204,  3283, 15243,  1999,  2012, 24559,  1012,\n",
              "          2026,  3460,  2318,  2033,  2041,  2007,  2431,  1037,  4261,  1012,\n",
              "          1019, 11460, 17357,  1016,  2595,  1037,  2154,  1012,  1045,  3202,\n",
              "          2371,  1996,  4200,  2707,  2551,  1010,  1996, 10147, 12079,  2100,\n",
              "          8660,  2041,  1997,  2115,  3096,  3110,  1998,  1045,  2018,  1037,\n",
              "          2843,  1997,  2943,  1996,  2034,  2261,  2420,  1012,  1045,  7518,\n",
              "          2098, 11268,  8557,  2135,  1998,  2018,  2000,  2031,  2300,  2011,\n",
              "          2026,  2217,  2012,  2035,  2335,  1012,  1045,  2371,  1996, 19960,\n",
              "          2015,  2130,  2041,  1998,  2011,  1996,  4833,  2154,  1045,  2001,\n",
              "          4851,  2026,  3460,  2000,  2292,  2033,  2202,  1037,  2878, 17357,\n",
              "          2320,  1037,  2154,  1012,  1045,  2191,  2469,  1045,  2202,  2026,\n",
              "         13004,  2220,  2043,  1045,  2034,  5256,  2039,  1012,  2061,  1999,\n",
              "          2055,  1019,  3134,  1045,  2031,  3333,  2091,  2000, 26953,  1012,\n",
              "          2023,  4319,  2003,  2166,  5278,  2005,  2033,  1012,  1045,  2323,\n",
              "          2022,  2006, 11980,  1998,  1045,  1004,  1001,  6021,  2683,  1025,\n",
              "          1049,  1999, 11888,  3255,  2021,  2023,  4200,  2038,  2790,  2000,\n",
              "          2393,  2033,  3458,  1996, 18923, 16081,  4630,  1012,  1045,  1004,\n",
              "          1001,  6021,  2683,  1025,  1049,  1037,  2871,  2095,  2214,  2931,\n",
              "          2007,  3246,   999,  1000,   102,     0,     0,     0,     0,     0,\n",
              "             0,     0,     0,     0,     0,     0,     0,     0,     0,     0,\n",
              "             0,     0,     0,     0,     0,     0,     0,     0,     0,     0,\n",
              "             0,     0,     0,     0,     0,     0,     0,     0,     0,     0,\n",
              "             0,     0,     0,     0,     0,     0,     0,     0,     0,     0,\n",
              "             0,     0,     0,     0,     0,     0,     0,     0,     0,     0,\n",
              "             0,     0,     0,     0,     0,     0,     0,     0,     0,     0,\n",
              "             0,     0,     0,     0,     0,     0,     0,     0,     0,     0,\n",
              "             0,     0,     0,     0,     0,     0,     0,     0,     0,     0]),\n",
              " 'review_text': '\"I started taking Phentermine just a little over a month ago weighing in at 307. My doctor started me out with half a 37.5 mg pill 2x a day. I immediately felt the medicine start working, the jittery jumping out of your skin feeling and I had a lot of energy the first few days. I sweated profusely and had to have water by my side at all times.  I felt the meds even out and by the 5th day I was asking my doctor to let me take a whole pill once a day. I make sure I take my dose early when I first wake up. So in about 5 weeks I have dropped down to 293. This drug is life changing for me. I should be on disability and I&#039;m in chronic pain but this medicine has seemed to help me beyond the appetite suppressant. I&#039;m a 40 year old female with hope!\"',\n",
              " 'targets': tensor(2)}"
            ]
          },
          "metadata": {},
          "execution_count": 96
        }
      ]
    },
    {
      "cell_type": "code",
      "source": [
        "train_ds[0]#looking at only one sentence in the train tokenizer"
      ],
      "metadata": {
        "colab": {
          "base_uri": "https://localhost:8080/"
        },
        "id": "vOnyj2z3v5vh",
        "outputId": "885b3ee7-84e9-462e-8523-31b4585f410e"
      },
      "execution_count": null,
      "outputs": [
        {
          "output_type": "execute_result",
          "data": {
            "text/plain": [
              "{'attention_mask': tensor([1, 1, 1, 1, 1, 1, 1, 1, 1, 1, 1, 1, 1, 1, 1, 1, 1, 1, 1, 1, 1, 1, 1, 1,\n",
              "         1, 1, 1, 1, 1, 1, 1, 1, 1, 1, 1, 1, 1, 1, 1, 1, 1, 1, 1, 1, 1, 1, 1, 1,\n",
              "         1, 1, 1, 1, 1, 1, 1, 1, 1, 1, 1, 1, 1, 1, 1, 1, 1, 1, 1, 1, 1, 1, 1, 1,\n",
              "         1, 1, 1, 1, 1, 1, 1, 1, 1, 1, 1, 1, 1, 1, 1, 1, 1, 1, 1, 1, 1, 1, 1, 1,\n",
              "         1, 1, 1, 1, 1, 1, 1, 1, 1, 1, 1, 1, 1, 1, 1, 1, 1, 1, 1, 1, 1, 1, 1, 1,\n",
              "         1, 1, 1, 1, 1, 1, 1, 1, 1, 1, 1, 1, 1, 1, 1, 1, 1, 1, 1, 1, 1, 1, 1, 1,\n",
              "         1, 1, 1, 1, 1, 1, 1, 1, 1, 1, 1, 1, 1, 1, 1, 1, 1, 1, 1, 1, 1, 1, 1, 1,\n",
              "         1, 1, 1, 1, 1, 1, 1, 1, 1, 0, 0, 0, 0, 0, 0, 0, 0, 0, 0, 0, 0, 0, 0, 0,\n",
              "         0, 0, 0, 0, 0, 0, 0, 0, 0, 0, 0, 0, 0, 0, 0, 0, 0, 0, 0, 0, 0, 0, 0, 0,\n",
              "         0, 0, 0, 0, 0, 0, 0, 0, 0, 0, 0, 0, 0, 0, 0, 0, 0, 0, 0, 0, 0, 0, 0, 0,\n",
              "         0, 0, 0, 0, 0, 0, 0, 0, 0, 0, 0, 0, 0, 0, 0, 0, 0, 0, 0, 0, 0, 0, 0, 0,\n",
              "         0, 0, 0, 0, 0, 0, 0, 0, 0, 0, 0, 0, 0, 0, 0, 0]),\n",
              " 'input_ids': tensor([  101,  1000,  1045,  2052,  2074,  2066,  2000,  5587,  1037,  3893,\n",
              "          3319,  1999,  1996, 12930,  1997,  2035,  1996,  2919,  2028,  1012,\n",
              "          1045,  5382,  2008,  7955, 10509, 11543,  3406,  2169,  4200,  1010,\n",
              "          2061,  1045,  2052,  2066,  2000,  2360,  2008,  1045,  1004,  1001,\n",
              "          6021,  2683,  1025,  1049,  2028,  1997,  1996,  2111,  2008,  2018,\n",
              "          2053, 25353, 20492, 25377,  2015, 18971,  2588,  2635,  2023,  4200,\n",
              "          1012,  1045,  2031,  5729,  1054, 20535,  7315,  2035, 24395,  1998,\n",
              "          2031,  2042,  2635,  7167,  1997,  2060,  3424, 24158, 15464, 10586,\n",
              "          1012,  8292, 18886, 21254,  2031,  2147,  2428,  2092,  2007,  2033,\n",
              "          1010,  2035,  1997,  1996,  2060,  6719,  2081,  2033,  3637,  1999,\n",
              "          1996,  2690,  1997,  1996,  2154,   999, 10124,  2852,  5004, 21254,\n",
              "          4757,  1010,  1998,  2200,  4621,  3272,  2005,  2070,  2420,  2073,\n",
              "          2026,  2035, 24395,  2003,  2061,  5729,  1010,  1045,  2018,  2000,\n",
              "          2202,  1996, 14667,  3807,  2138,  1996,  2034,  2028,  2134,  1004,\n",
              "          1001,  6021,  2683,  1025,  1056,  2147,  2021,  2023,  2003,  1037,\n",
              "          2200,  4678,  2553,  1012,  2061,  3531,  2123,  1004,  1001,  6021,\n",
              "          2683,  1025,  1056, 16390,  2000,  3046,  2009,  2453,  2147,  2428,\n",
              "          2092,  2005,  2017,  2205,   999,  1000,   102,     0,     0,     0,\n",
              "             0,     0,     0,     0,     0,     0,     0,     0,     0,     0,\n",
              "             0,     0,     0,     0,     0,     0,     0,     0,     0,     0,\n",
              "             0,     0,     0,     0,     0,     0,     0,     0,     0,     0,\n",
              "             0,     0,     0,     0,     0,     0,     0,     0,     0,     0,\n",
              "             0,     0,     0,     0,     0,     0,     0,     0,     0,     0,\n",
              "             0,     0,     0,     0,     0,     0,     0,     0,     0,     0,\n",
              "             0,     0,     0,     0,     0,     0,     0,     0,     0,     0,\n",
              "             0,     0,     0,     0,     0,     0,     0,     0,     0,     0,\n",
              "             0,     0,     0,     0,     0,     0,     0,     0,     0,     0,\n",
              "             0,     0,     0,     0,     0,     0,     0,     0,     0,     0]),\n",
              " 'review_text': '\"I would just like to add a positive review in the midst of all the bad one. I realize that everybody react differentlyto each medicine, so I would like to say that I&#039;m one of the people that had no symtomps whatsoever upon taking this medicine. I have severe rhinitis allergy and have been taking lots of other antihistamines. Cetrizine have work really well with me, all of the other literally made me sleep in the middle of the day! Minimal drowziness, and very effective except for some days where my allergy is so severe, I had to take the medication twice because the first one didn&#039;t work but this is a very rare case. So please don&#039;t hesitate to try it might work really well for you too!\"',\n",
              " 'targets': tensor(2)}"
            ]
          },
          "metadata": {},
          "execution_count": 97
        }
      ]
    },
    {
      "cell_type": "markdown",
      "source": [
        "###Data Loader : using Pytorch library"
      ],
      "metadata": {
        "id": "PtaELndK2hYn"
      }
    },
    {
      "cell_type": "code",
      "source": [
        "ds_train=DataLoader(train_ds,batch_size=16,shuffle=False)"
      ],
      "metadata": {
        "id": "d0CTJSZitb-o"
      },
      "execution_count": null,
      "outputs": []
    },
    {
      "cell_type": "code",
      "source": [
        "ds_val=DataLoader(val_ds,batch_size=16,shuffle=False)\n"
      ],
      "metadata": {
        "id": "rrfBztT_1woH"
      },
      "execution_count": null,
      "outputs": []
    },
    {
      "cell_type": "code",
      "source": [
        "ds_test=DataLoader(test_ds,batch_size=16,shuffle=False)"
      ],
      "metadata": {
        "id": "j-Fw9gvE11v-"
      },
      "execution_count": null,
      "outputs": []
    },
    {
      "cell_type": "code",
      "source": [
        "#iterating over the pytorch dataloader\n",
        "for batch in ds_train:\n",
        "  print(batch)\n",
        "  break"
      ],
      "metadata": {
        "colab": {
          "base_uri": "https://localhost:8080/"
        },
        "id": "xPfvz6G5vjIm",
        "outputId": "4c1ec3e9-a340-459a-99f0-e7392552dc7d"
      },
      "execution_count": null,
      "outputs": [
        {
          "output_type": "stream",
          "name": "stdout",
          "text": [
            "{'review_text': ['\"I would just like to add a positive review in the midst of all the bad one. I realize that everybody react differentlyto each medicine, so I would like to say that I&#039;m one of the people that had no symtomps whatsoever upon taking this medicine. I have severe rhinitis allergy and have been taking lots of other antihistamines. Cetrizine have work really well with me, all of the other literally made me sleep in the middle of the day! Minimal drowziness, and very effective except for some days where my allergy is so severe, I had to take the medication twice because the first one didn&#039;t work but this is a very rare case. So please don&#039;t hesitate to try it might work really well for you too!\"', '\"I have been taking Gianvi for 9 months now. This is the first Birth control I tried and was highly recommended by my Gynecologist. After the first few months of taking it I didn&#039;t seem to have any problems my period always came on the third day of the placebo pills and lasted about five days. One thing I will say is I have only missed one pill and if you miss one you will break through bleed for a little bit. Last month I did get random spotting before my period, then my period started and stopped for a day then came back very light. I think this is just my periods lessening, I know some on this medication don&#039;t receive a period at all. I would greatly recommend this birth control I LOVE IT! And it has prevented pregnancy!\"', '\"I&#039;m a 25 year old female and my doctor prescribed Celexa to help me manage my anxiety. I&#039;ve been on it just shy of 3 months. I started with 10 mg and increased to 20 mg after about 2 weeks. My initial side effects were dry mouth, decreased appetite, sleepiness and low libido. The first few nights I was on Celexa I also found myself suddenly waking up in the middle of the night in a panic. This also happened after my dose was increased. After almost 3 months on Celexa, all the side effects have disappeared, except my sex drive is completely non-existent. Overall I feel very relaxed and my anxiety symptoms have significantly decreased.\"', '\"Dopamine and norepinephrine are two major brain chemicals in the feelings of romantic love.\\r\\nSerotonin (key in SSRIs) actually suppresses dopamine and inhibits feelings.\\r\\nThis dopamine and norepinephrine (a stimulant) reuptake inhibitor can help and and DRIVE without sexual side effects, weight gain, and apathy caused by SSRIs.\\r\\nOften prescribed with an SSRI to counteract side effects of it.\\r\\nAlso it is reported to have few side effects (unless you suffer from a seizure disorder that is).\\r\\nI recommend this over an SSRI or in addition to one.\"', '\"Worked good for about 4 months then my psoriasis started to come back within 8 months it almost like it was before Humira. One year later it has became completely useless.\"', '\"Horrible reaction to Zoloft , ended up in the ER after 5 doses(12.5 mg) . That morning I awoke at 5 am sweating , achy, nauseous , heart racing, could barely walk legs hurt so bad. It&#039;s been 3 1/2 weeks since I stopped it and I still have pain in hips and muscle aches / burning sensation in legs and constant chest pain from palpitations.\"', '\"I actually felt these made me worse if anything, I had the shakes after I took them and felt as sick if not more.\"', '\"I am a new user with Pradaxa and have found the same digestive problems, severe acid reflux and heartburn. Also I have had bleeding ulcers twice so I&#039;m a bit concerned about that. However checked with my Doctor who told me to take pill after meals. I tried this, but also discovered the pills must be taken IMMEDIATELY after eating food (not snacks but full meals). I also use Ranitidine with the Pradaxa and found it works. Much more comfort, almost no heartburn, just a slight sensation. I haven&#039;t had an INT test so at the moment I don&#039;t know if my coagulation levels are okay. But I will do that soon. Overall I feel that using this new medicine I feel better, so I hope this will continue, its a bit early to make the final judgment.\"', '\"Had to stop taking this after day 4 of 7. First time I was prescribed this. I am Allergic to sulfa antibiotics and usually have good results with amoxicillin with no side effects. This drug Gave me headaches, made me tired and experienced the most severe gas pains in my abdomen I&#039;ve ever had for hours each day. Did help clear the UTI after a few days though.  Hopefully 4 days was enough to keep UTI away.\"', '\"I started with this pill to get off the shot but it is no better...I can&#039;t sleep at night I have the worst headaches my cycle is never predictable..I can see blood one day and nothing the next I can have sex one day and still bleed &amp; that&#039;s so embarrassing &amp; disgusting I hate this pill it was the worst choice ever\"', '\"I like it.. ok, for the first 4 months my bleeding was non stop and horrible headaches but I went to my doctor and she wrote me a prescription and told me to take the birth control pill also for 1 month straight to control the bleeding and it worked.. I haven&#039;t really had a period since then..  and in Nov it will be 1 year with me having it in.. no weight gain and if so it&#039;s me because I love to eat.. lol.. but no other side effects for me!!! If everything stays this way I will probably get it in again after my 3 years is up..\"', '\"I have been receiving Lupron or Eligard every 6 months for ten years to help reduce the growth of prostate cancer. Early research reports indicated that one side effect might be peripheral neuropathy. That started to develop in my feet shortly after I was put on Lupron. Loss of bone mass has also been associated with Lupron. I have begun taking 1200 units of calcium VitaminD each day. My PSA scores have all continued to be below .1. I have no major complaints, and have learned to live with the side effects.\"', '\"I recently had to switch to Avaine after finding out that my health insurance (Blue Cross) refused to continue to cover the cost of Alesse after the first 3 months. I&#039;ve only been using Avaine for a little over a week. So far I don&#039;t see any problems except I&#039;ve been breaking out more than I should since I&#039;m on birth control. Other than that I think it&#039;s fine.\"', '\"I&#039;ve been taking Trintellix for over 6 months now and it&#039;s helped me a lot! Taking it along with my anxiety medication and birth control has completely gotten rid of my suicidal thoughts and now my panic attack are extremely rare, and only when I am about to/am on my period. My only problem is that it hasn&#039;t done as well as psychiatrist has hoped, I still have some of the daze and haziness that prevents me from being able to do anything. Which isn&#039;t a very great point if you&#039;re on 20mg and your insurance will barely pay for it since it&#039;s new, leaving you with about 340$!!!! I still think it&#039;s done well by getting me stable and calm but still not really good enough for me, at least right now.\"', '\"I&#039;m on my second day. I got non of the side effects and I still got craving for nicotine. However when I smoke the cigarettes they are starting to taste funny and it is not the same feeling like when I used to smoke. The bad thing for me so far is that because of the nicotine craving I keep on smoking. I smoked 18 cigarettes yesterday (as I do get some nicotine cravings, my mind still doesn&#039;t get that I wont get nicotine from cigarettes). Today so far I barely smoked 2 so far. On my way to a new healthy life.\"', '\"While I have only been on this medication, I feel so much better. I didn&#039;t become ill at all through the winter.\"'], 'input_ids': tensor([[ 101, 1000, 1045,  ...,    0,    0,    0],\n",
            "        [ 101, 1000, 1045,  ...,    0,    0,    0],\n",
            "        [ 101, 1000, 1045,  ...,    0,    0,    0],\n",
            "        ...,\n",
            "        [ 101, 1000, 1045,  ...,    0,    0,    0],\n",
            "        [ 101, 1000, 1045,  ...,    0,    0,    0],\n",
            "        [ 101, 1000, 2096,  ...,    0,    0,    0]]), 'attention_mask': tensor([[1, 1, 1,  ..., 0, 0, 0],\n",
            "        [1, 1, 1,  ..., 0, 0, 0],\n",
            "        [1, 1, 1,  ..., 0, 0, 0],\n",
            "        ...,\n",
            "        [1, 1, 1,  ..., 0, 0, 0],\n",
            "        [1, 1, 1,  ..., 0, 0, 0],\n",
            "        [1, 1, 1,  ..., 0, 0, 0]]), 'targets': tensor([2, 2, 2, 2, 1, 0, 0, 1, 0, 0, 2, 2, 2, 2, 2, 2])}\n"
          ]
        }
      ]
    },
    {
      "cell_type": "markdown",
      "source": [
        "##Training the Model"
      ],
      "metadata": {
        "id": "CRJx63S53dNl"
      }
    },
    {
      "cell_type": "code",
      "source": [
        "class SentimentClassifier(nn.Module):\n",
        "  '''\n",
        "  Sentiment classifcation on pretrained Bertmodel(We used small model for our datasets), adding hidden layer and droupout layer.\n",
        "  We use a dropout layer for some regularization and a fully-connected layer for our output.\n",
        "  Note that we’re returning the raw output of the last layer since that is required for the cross-entropy loss function in PyTorch to work.\n",
        "  '''\n",
        "\n",
        "  def __init__(self, n_classes):\n",
        "    super(SentimentClassifier, self).__init__()\n",
        "    self.bert = BertModel.from_pretrained(\"google/bert_uncased_L-4_H-512_A-8\")\n",
        "    self.drop = nn.Dropout(p=0.3)\n",
        "    self.out = nn.Linear(self.bert.config.hidden_size, n_classes)\n",
        "\n",
        "  def forward(self, input_ids, attention_mask):\n",
        "    intermediate = self.bert(\n",
        "      input_ids=input_ids,\n",
        "      attention_mask=attention_mask\n",
        "    )\n",
        "    pooled_output = intermediate.pooler_output\n",
        "    output = self.drop(pooled_output)\n",
        "    return self.out(output)"
      ],
      "metadata": {
        "id": "dsgs0IxBpwxA"
      },
      "execution_count": null,
      "outputs": []
    },
    {
      "cell_type": "code",
      "source": [
        "'''Defining the class names and taking only 3 labels(len(class_names)),\n",
        " creating an instance and move it to the GPU\n",
        "'''\n",
        "class_names = ['negative', 'neutral', 'positive']\n",
        "model = SentimentClassifier(len(class_names))\n",
        "model = model.to(device)"
      ],
      "metadata": {
        "colab": {
          "base_uri": "https://localhost:8080/"
        },
        "id": "TSlx8_ioo78F",
        "outputId": "ca3075e4-1207-404f-fd02-1d03c53ab6d7"
      },
      "execution_count": null,
      "outputs": [
        {
          "output_type": "stream",
          "name": "stderr",
          "text": [
            "Some weights of the model checkpoint at google/bert_uncased_L-4_H-512_A-8 were not used when initializing BertModel: ['cls.predictions.decoder.weight', 'cls.seq_relationship.weight', 'cls.predictions.transform.dense.weight', 'cls.predictions.transform.LayerNorm.bias', 'cls.predictions.bias', 'cls.predictions.decoder.bias', 'cls.predictions.transform.LayerNorm.weight', 'cls.predictions.transform.dense.bias', 'cls.seq_relationship.bias']\n",
            "- This IS expected if you are initializing BertModel from the checkpoint of a model trained on another task or with another architecture (e.g. initializing a BertForSequenceClassification model from a BertForPreTraining model).\n",
            "- This IS NOT expected if you are initializing BertModel from the checkpoint of a model that you expect to be exactly identical (initializing a BertForSequenceClassification model from a BertForSequenceClassification model).\n"
          ]
        }
      ]
    },
    {
      "cell_type": "code",
      "source": [
        "print(model) #printing our model"
      ],
      "metadata": {
        "colab": {
          "base_uri": "https://localhost:8080/"
        },
        "id": "P5WZV_dTqC22",
        "outputId": "f661d588-94d1-47d6-a90d-2d9487c1f613"
      },
      "execution_count": null,
      "outputs": [
        {
          "output_type": "stream",
          "name": "stdout",
          "text": [
            "SentimentClassifier(\n",
            "  (bert): BertModel(\n",
            "    (embeddings): BertEmbeddings(\n",
            "      (word_embeddings): Embedding(30522, 512, padding_idx=0)\n",
            "      (position_embeddings): Embedding(512, 512)\n",
            "      (token_type_embeddings): Embedding(2, 512)\n",
            "      (LayerNorm): LayerNorm((512,), eps=1e-12, elementwise_affine=True)\n",
            "      (dropout): Dropout(p=0.1, inplace=False)\n",
            "    )\n",
            "    (encoder): BertEncoder(\n",
            "      (layer): ModuleList(\n",
            "        (0): BertLayer(\n",
            "          (attention): BertAttention(\n",
            "            (self): BertSelfAttention(\n",
            "              (query): Linear(in_features=512, out_features=512, bias=True)\n",
            "              (key): Linear(in_features=512, out_features=512, bias=True)\n",
            "              (value): Linear(in_features=512, out_features=512, bias=True)\n",
            "              (dropout): Dropout(p=0.1, inplace=False)\n",
            "            )\n",
            "            (output): BertSelfOutput(\n",
            "              (dense): Linear(in_features=512, out_features=512, bias=True)\n",
            "              (LayerNorm): LayerNorm((512,), eps=1e-12, elementwise_affine=True)\n",
            "              (dropout): Dropout(p=0.1, inplace=False)\n",
            "            )\n",
            "          )\n",
            "          (intermediate): BertIntermediate(\n",
            "            (dense): Linear(in_features=512, out_features=2048, bias=True)\n",
            "            (intermediate_act_fn): GELUActivation()\n",
            "          )\n",
            "          (output): BertOutput(\n",
            "            (dense): Linear(in_features=2048, out_features=512, bias=True)\n",
            "            (LayerNorm): LayerNorm((512,), eps=1e-12, elementwise_affine=True)\n",
            "            (dropout): Dropout(p=0.1, inplace=False)\n",
            "          )\n",
            "        )\n",
            "        (1): BertLayer(\n",
            "          (attention): BertAttention(\n",
            "            (self): BertSelfAttention(\n",
            "              (query): Linear(in_features=512, out_features=512, bias=True)\n",
            "              (key): Linear(in_features=512, out_features=512, bias=True)\n",
            "              (value): Linear(in_features=512, out_features=512, bias=True)\n",
            "              (dropout): Dropout(p=0.1, inplace=False)\n",
            "            )\n",
            "            (output): BertSelfOutput(\n",
            "              (dense): Linear(in_features=512, out_features=512, bias=True)\n",
            "              (LayerNorm): LayerNorm((512,), eps=1e-12, elementwise_affine=True)\n",
            "              (dropout): Dropout(p=0.1, inplace=False)\n",
            "            )\n",
            "          )\n",
            "          (intermediate): BertIntermediate(\n",
            "            (dense): Linear(in_features=512, out_features=2048, bias=True)\n",
            "            (intermediate_act_fn): GELUActivation()\n",
            "          )\n",
            "          (output): BertOutput(\n",
            "            (dense): Linear(in_features=2048, out_features=512, bias=True)\n",
            "            (LayerNorm): LayerNorm((512,), eps=1e-12, elementwise_affine=True)\n",
            "            (dropout): Dropout(p=0.1, inplace=False)\n",
            "          )\n",
            "        )\n",
            "        (2): BertLayer(\n",
            "          (attention): BertAttention(\n",
            "            (self): BertSelfAttention(\n",
            "              (query): Linear(in_features=512, out_features=512, bias=True)\n",
            "              (key): Linear(in_features=512, out_features=512, bias=True)\n",
            "              (value): Linear(in_features=512, out_features=512, bias=True)\n",
            "              (dropout): Dropout(p=0.1, inplace=False)\n",
            "            )\n",
            "            (output): BertSelfOutput(\n",
            "              (dense): Linear(in_features=512, out_features=512, bias=True)\n",
            "              (LayerNorm): LayerNorm((512,), eps=1e-12, elementwise_affine=True)\n",
            "              (dropout): Dropout(p=0.1, inplace=False)\n",
            "            )\n",
            "          )\n",
            "          (intermediate): BertIntermediate(\n",
            "            (dense): Linear(in_features=512, out_features=2048, bias=True)\n",
            "            (intermediate_act_fn): GELUActivation()\n",
            "          )\n",
            "          (output): BertOutput(\n",
            "            (dense): Linear(in_features=2048, out_features=512, bias=True)\n",
            "            (LayerNorm): LayerNorm((512,), eps=1e-12, elementwise_affine=True)\n",
            "            (dropout): Dropout(p=0.1, inplace=False)\n",
            "          )\n",
            "        )\n",
            "        (3): BertLayer(\n",
            "          (attention): BertAttention(\n",
            "            (self): BertSelfAttention(\n",
            "              (query): Linear(in_features=512, out_features=512, bias=True)\n",
            "              (key): Linear(in_features=512, out_features=512, bias=True)\n",
            "              (value): Linear(in_features=512, out_features=512, bias=True)\n",
            "              (dropout): Dropout(p=0.1, inplace=False)\n",
            "            )\n",
            "            (output): BertSelfOutput(\n",
            "              (dense): Linear(in_features=512, out_features=512, bias=True)\n",
            "              (LayerNorm): LayerNorm((512,), eps=1e-12, elementwise_affine=True)\n",
            "              (dropout): Dropout(p=0.1, inplace=False)\n",
            "            )\n",
            "          )\n",
            "          (intermediate): BertIntermediate(\n",
            "            (dense): Linear(in_features=512, out_features=2048, bias=True)\n",
            "            (intermediate_act_fn): GELUActivation()\n",
            "          )\n",
            "          (output): BertOutput(\n",
            "            (dense): Linear(in_features=2048, out_features=512, bias=True)\n",
            "            (LayerNorm): LayerNorm((512,), eps=1e-12, elementwise_affine=True)\n",
            "            (dropout): Dropout(p=0.1, inplace=False)\n",
            "          )\n",
            "        )\n",
            "      )\n",
            "    )\n",
            "    (pooler): BertPooler(\n",
            "      (dense): Linear(in_features=512, out_features=512, bias=True)\n",
            "      (activation): Tanh()\n",
            "    )\n",
            "  )\n",
            "  (drop): Dropout(p=0.3, inplace=False)\n",
            "  (out): Linear(in_features=512, out_features=3, bias=True)\n",
            ")\n"
          ]
        }
      ]
    },
    {
      "cell_type": "code",
      "source": [
        "#training\n",
        "EPOCHS = 5 #intializing 5 epochs\n",
        "\n",
        "optimizer = AdamW(model.parameters(), lr=2e-5, correct_bias=False) #using pytorch Adamw optimizer\n",
        "total_steps = len(ds_train) * EPOCHS\n",
        "\n",
        "scheduler = get_linear_schedule_with_warmup(\n",
        "  optimizer,\n",
        "  num_warmup_steps=0,\n",
        "  num_training_steps=total_steps\n",
        ")\n",
        "\n",
        "loss_fn = nn.CrossEntropyLoss().to(device)"
      ],
      "metadata": {
        "colab": {
          "base_uri": "https://localhost:8080/"
        },
        "id": "jVDQsbxaqKcZ",
        "outputId": "9f8033fc-c5ac-4eaf-c092-4aa350f7fd08"
      },
      "execution_count": null,
      "outputs": [
        {
          "output_type": "stream",
          "name": "stderr",
          "text": [
            "/usr/local/lib/python3.7/dist-packages/transformers/optimization.py:310: FutureWarning: This implementation of AdamW is deprecated and will be removed in a future version. Use the PyTorch implementation torch.optim.AdamW instead, or set `no_deprecation_warning=True` to disable this warning\n",
            "  FutureWarning,\n"
          ]
        }
      ]
    },
    {
      "cell_type": "code",
      "source": [
        "def train_epoch(\n",
        "  model,\n",
        "  data_loader,\n",
        "  loss_fn,\n",
        "  optimizer,\n",
        "  device,\n",
        "  scheduler,\n",
        "  n_examples\n",
        "):\n",
        "  model = model.train()\n",
        "\n",
        "  losses = []\n",
        "  correct_predictions = 0\n",
        "\n",
        "  for d in data_loader:\n",
        "    input_ids = d[\"input_ids\"].to(device)\n",
        "    attention_mask = d[\"attention_mask\"].to(device)\n",
        "    targets = d[\"targets\"].to(device)\n",
        "\n",
        "    outputs = model(\n",
        "      input_ids=input_ids,\n",
        "      attention_mask=attention_mask\n",
        "    )\n",
        "\n",
        "    _, preds = torch.max(outputs, dim=1)\n",
        "    loss = loss_fn(outputs, targets)\n",
        "\n",
        "    correct_predictions += torch.sum(preds == targets)\n",
        "    losses.append(loss.item())\n",
        "\n",
        "    loss.backward()\n",
        "    nn.utils.clip_grad_norm_(model.parameters(), max_norm=1.0)\n",
        "    optimizer.step()\n",
        "    scheduler.step()\n",
        "    optimizer.zero_grad()\n",
        "\n",
        "  return correct_predictions.double() / n_examples, np.mean(losses)"
      ],
      "metadata": {
        "id": "j_M5S8XayBte"
      },
      "execution_count": null,
      "outputs": []
    },
    {
      "cell_type": "code",
      "source": [
        "def eval_model(model, data_loader, loss_fn, device, n_examples):\n",
        "  model = model.eval()\n",
        "\n",
        "  losses = []\n",
        "  correct_predictions = 0\n",
        "\n",
        "  with torch.no_grad():\n",
        "    for d in data_loader:\n",
        "      input_ids = d[\"input_ids\"].to(device)\n",
        "      attention_mask = d[\"attention_mask\"].to(device)\n",
        "      targets = d[\"targets\"].to(device)\n",
        "\n",
        "      outputs = model(\n",
        "        input_ids=input_ids,\n",
        "        attention_mask=attention_mask\n",
        "      )\n",
        "      _, preds = torch.max(outputs, dim=1)\n",
        "\n",
        "      loss = loss_fn(outputs, targets)\n",
        "\n",
        "      correct_predictions += torch.sum(preds == targets)\n",
        "      losses.append(loss.item())\n",
        "\n",
        "  return correct_predictions.double() / n_examples, np.mean(losses)"
      ],
      "metadata": {
        "id": "uTTM0e4Oybcp"
      },
      "execution_count": null,
      "outputs": []
    },
    {
      "cell_type": "code",
      "source": [
        "%%time\n",
        "\n",
        "history = defaultdict(list)\n",
        "best_accuracy = 0\n",
        "\n",
        "for epoch in range(EPOCHS):\n",
        "\n",
        "  print(f'Epoch {epoch + 1}/{EPOCHS}')\n",
        "  print('-' * 10)\n",
        "\n",
        "  train_acc, train_loss = train_epoch(\n",
        "    model,\n",
        "    ds_train,\n",
        "    loss_fn,\n",
        "    optimizer,\n",
        "    device,\n",
        "    scheduler,\n",
        "    len(df_train)\n",
        "  )\n",
        "\n",
        "  print(f'Train loss {train_loss} accuracy {train_acc}')\n",
        "\n",
        "  val_acc, val_loss = eval_model(\n",
        "    model,\n",
        "    ds_val,\n",
        "    loss_fn,\n",
        "    device,\n",
        "    len(df_val)\n",
        "  )\n",
        "\n",
        "  print(f'Val   loss {val_loss} accuracy {val_acc}')\n",
        "  print()\n",
        "\n",
        "  history['train_acc'].append(train_acc)\n",
        "  history['train_loss'].append(train_loss)\n",
        "  history['val_acc'].append(val_acc)\n",
        "  history['val_loss'].append(val_loss)\n",
        "\n",
        "  if val_acc > best_accuracy:\n",
        "    torch.save(model.state_dict(), 'best_model_state.bin')\n",
        "    best_accuracy = val_acc #took 2minutes for 2% and for whole datset it took 1h 55min 7s"
      ],
      "metadata": {
        "id": "HxFoolJ7ybr0",
        "colab": {
          "base_uri": "https://localhost:8080/"
        },
        "outputId": "8e4023d0-7b91-41f3-f359-5f7fc5483098"
      },
      "execution_count": null,
      "outputs": [
        {
          "output_type": "stream",
          "name": "stdout",
          "text": [
            "Epoch 1/5\n",
            "----------\n",
            "Train loss 0.5044384145449747 accuracy 0.8094352412128427\n",
            "Val   loss 0.4256422536337555 accuracy 0.8389832610043397\n",
            "\n",
            "Epoch 2/5\n",
            "----------\n",
            "Train loss 0.39595872674897586 accuracy 0.8521145389015641\n",
            "Val   loss 0.4110326105237409 accuracy 0.8496962182269063\n",
            "\n",
            "Epoch 3/5\n",
            "----------\n",
            "Train loss 0.3354075779777349 accuracy 0.8766243428231327\n",
            "Val   loss 0.41626705158611216 accuracy 0.857061376317421\n",
            "\n",
            "Epoch 4/5\n",
            "----------\n",
            "Train loss 0.29101565692757564 accuracy 0.8948599675958073\n",
            "Val   loss 0.4275024077036403 accuracy 0.8621698698078115\n",
            "\n",
            "Epoch 5/5\n",
            "----------\n",
            "Train loss 0.26044686521739635 accuracy 0.9095989154515095\n",
            "Val   loss 0.453836449514114 accuracy 0.8636825790452572\n",
            "\n",
            "CPU times: user 1h 54min 48s, sys: 18.6 s, total: 1h 55min 7s\n",
            "Wall time: 1h 55min 47s\n"
          ]
        }
      ]
    },
    {
      "cell_type": "code",
      "source": [
        "def get_predictions(model, data_loader):\n",
        "  '''\n",
        "  evaluating the model and the function give review_text,predictions,prediction_probs and real_values\n",
        "  '''\n",
        "  model = model.eval()\n",
        "\n",
        "  review_texts = []\n",
        "  predictions = []\n",
        "  prediction_probs = []\n",
        "  real_values = []\n",
        "\n",
        "  with torch.no_grad():\n",
        "    for d in data_loader:\n",
        "\n",
        "      texts = d[\"review_text\"]\n",
        "      input_ids = d[\"input_ids\"].to(device)\n",
        "      attention_mask = d[\"attention_mask\"].to(device)\n",
        "      targets = d[\"targets\"].to(device)\n",
        "\n",
        "      outputs = model(\n",
        "        input_ids=input_ids,\n",
        "        attention_mask=attention_mask\n",
        "      )\n",
        "      _, preds = torch.max(outputs, dim=1)\n",
        "\n",
        "      probs = F.softmax(outputs, dim=1)\n",
        "\n",
        "      review_texts.extend(texts)\n",
        "      predictions.extend(preds)\n",
        "      prediction_probs.extend(probs)\n",
        "      real_values.extend(targets)\n",
        "\n",
        "  predictions = torch.stack(predictions).cpu()\n",
        "  prediction_probs = torch.stack(prediction_probs).cpu()\n",
        "  real_values = torch.stack(real_values).cpu()\n",
        "  return review_texts, predictions, prediction_probs, real_values"
      ],
      "metadata": {
        "id": "Q7YFwoWS9uCv"
      },
      "execution_count": null,
      "outputs": []
    },
    {
      "cell_type": "code",
      "source": [
        "#getting prediction on test sample\n",
        "y_review_texts, y_pred, y_pred_probs, y_test = get_predictions(model,ds_test)"
      ],
      "metadata": {
        "id": "NOGI4jGz9jnf"
      },
      "execution_count": null,
      "outputs": []
    },
    {
      "cell_type": "code",
      "source": [
        "print(classification_report(y_test, y_pred, target_names=class_names)) #classification report"
      ],
      "metadata": {
        "colab": {
          "base_uri": "https://localhost:8080/"
        },
        "id": "1TDvHP4-Cfx_",
        "outputId": "0c388387-ea73-4338-bf99-d304bba37b7b"
      },
      "execution_count": null,
      "outputs": [
        {
          "output_type": "stream",
          "name": "stdout",
          "text": [
            "              precision    recall  f1-score   support\n",
            "\n",
            "    negative       0.81      0.86      0.84     13497\n",
            "     neutral       0.46      0.39      0.42      4829\n",
            "    positive       0.93      0.93      0.93     35440\n",
            "\n",
            "    accuracy                           0.86     53766\n",
            "   macro avg       0.74      0.73      0.73     53766\n",
            "weighted avg       0.86      0.86      0.86     53766\n",
            "\n"
          ]
        }
      ]
    },
    {
      "cell_type": "code",
      "source": [
        "def show_confusion_matrix(confusion_matrix):\n",
        "  '''\n",
        "  Confusion matrix to determine the test sample prediction\n",
        "  '''\n",
        "  hmap = sns.heatmap(confusion_matrix, annot=True, fmt=\"d\", cmap=\"Blues\")\n",
        "  hmap.yaxis.set_ticklabels(hmap.yaxis.get_ticklabels(), rotation=0, ha='right')\n",
        "  hmap.xaxis.set_ticklabels(hmap.xaxis.get_ticklabels(), rotation=30, ha='right')\n",
        "  plt.ylabel('True sentiment')\n",
        "  plt.xlabel('Predicted sentiment');\n",
        "\n",
        "cm = confusion_matrix(y_test, y_pred)\n",
        "df_cm = pd.DataFrame(cm, index=class_names, columns=class_names)\n",
        "show_confusion_matrix(df_cm)"
      ],
      "metadata": {
        "colab": {
          "base_uri": "https://localhost:8080/",
          "height": 533
        },
        "id": "VR_aOeNDCgLg",
        "outputId": "4aef8842-e554-4d6a-a015-b739203253d0"
      },
      "execution_count": null,
      "outputs": [
        {
          "output_type": "display_data",
          "data": {
            "text/plain": [
              "<Figure size 864x576 with 2 Axes>"
            ],
            "image/png": "[encoded data removed]"
          },
          "metadata": {
            "image/png": {
              "width": 741,
              "height": 516
            }
          }
        }
      ]
    },
    {
      "cell_type": "markdown",
      "source": [
        "\n",
        "##Conclusion\n",
        "\n",
        "1. For our Model training and Validation Loss were improved by running it for subsequent Epochs. And it took almost 2 hours to train our model(using small-bert model)\n",
        "2. By looking at our classification report we concluded that our model is not able to significantly distinguish Neutral sentiments (f1 score: 42%) as compared to Negative(f1 score: 84%) and positive sentiments with 93% f1 score. The reason may be we have less number of sample for Neutral class in our dataset (Highly imbalanced)\n",
        "3. By looking at the confusion matrix it confirms that our model is having difficulty classifying neutral reviews. It mistakes those for negative and positive. There is also high percentage of Falsely predicted sentiments for overall dataset\n",
        "\n",
        "\n",
        "\n",
        "\n"
      ],
      "metadata": {
        "id": "2-9Vo_X58Nvq"
      }
    },
    {
      "cell_type": "code",
      "source": [],
      "metadata": {
        "id": "v1NUzSPH_x2o"
      },
      "execution_count": null,
      "outputs": []
    }
  ]
}